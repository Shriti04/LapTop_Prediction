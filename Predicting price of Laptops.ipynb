{
 "cells": [
  {
   "cell_type": "markdown",
   "id": "1b7161ab-6f24-4da1-88af-43ef3c2aa596",
   "metadata": {},
   "source": [
    "## Q1. How can the dataset be imported into .ipynb code using the pandas library?"
   ]
  },
  {
   "cell_type": "markdown",
   "id": "59eb3bb6-cc12-4104-bb80-e5d86eb69386",
   "metadata": {},
   "source": [
    " ## we can import a dataset likely in CSV file  into a Jupyter NB using Panda as follows:"
   ]
  },
  {
   "cell_type": "code",
   "execution_count": 142,
   "id": "2087b16b-c94a-48f9-90e6-ac6369c51e02",
   "metadata": {},
   "outputs": [],
   "source": [
    "import pandas as pd"
   ]
  },
  {
   "cell_type": "code",
   "execution_count": 143,
   "id": "ea99a0cf-9150-4fcd-a5e3-2f03633d5952",
   "metadata": {},
   "outputs": [],
   "source": [
    "data = pd.read_csv(r\"G:\\data science\\Laptop Data (1).csv\")"
   ]
  },
  {
   "cell_type": "code",
   "execution_count": 144,
   "id": "cd952b99-e2ba-4b27-93fc-7c4c70afb282",
   "metadata": {
    "scrolled": true
   },
   "outputs": [
    {
     "data": {
      "text/html": [
       "<div>\n",
       "<style scoped>\n",
       "    .dataframe tbody tr th:only-of-type {\n",
       "        vertical-align: middle;\n",
       "    }\n",
       "\n",
       "    .dataframe tbody tr th {\n",
       "        vertical-align: top;\n",
       "    }\n",
       "\n",
       "    .dataframe thead th {\n",
       "        text-align: right;\n",
       "    }\n",
       "</style>\n",
       "<table border=\"1\" class=\"dataframe\">\n",
       "  <thead>\n",
       "    <tr style=\"text-align: right;\">\n",
       "      <th></th>\n",
       "      <th>Unnamed: 0</th>\n",
       "      <th>Name</th>\n",
       "      <th>Brand</th>\n",
       "      <th>Price</th>\n",
       "      <th>Rating</th>\n",
       "      <th>Processor_brand</th>\n",
       "      <th>Processor_gen</th>\n",
       "      <th>Core_per_processor</th>\n",
       "      <th>Energy_Efficient_Units</th>\n",
       "      <th>RAM_GB</th>\n",
       "      <th>RAM_type</th>\n",
       "      <th>Storage_capacity_GB</th>\n",
       "      <th>Storage_type</th>\n",
       "      <th>Graphics_brand</th>\n",
       "      <th>Display_size_inches</th>\n",
       "      <th>Horizontal_pixel</th>\n",
       "      <th>Vertical_pixel</th>\n",
       "      <th>Touch_screen</th>\n",
       "      <th>Operating_system</th>\n",
       "    </tr>\n",
       "  </thead>\n",
       "  <tbody>\n",
       "    <tr>\n",
       "      <th>0</th>\n",
       "      <td>0</td>\n",
       "      <td>HP Victus 15-fb0157AX Gaming Laptop (AMD Ryzen...</td>\n",
       "      <td>HP</td>\n",
       "      <td>50399</td>\n",
       "      <td>4.30</td>\n",
       "      <td>AMD</td>\n",
       "      <td>5.0</td>\n",
       "      <td>6.0</td>\n",
       "      <td>0</td>\n",
       "      <td>8</td>\n",
       "      <td>DDR4</td>\n",
       "      <td>512</td>\n",
       "      <td>SSD</td>\n",
       "      <td>AMD</td>\n",
       "      <td>15.6</td>\n",
       "      <td>1920</td>\n",
       "      <td>1080</td>\n",
       "      <td>True</td>\n",
       "      <td>Windows 11 OS</td>\n",
       "    </tr>\n",
       "    <tr>\n",
       "      <th>1</th>\n",
       "      <td>1</td>\n",
       "      <td>Lenovo V15 G4 ‎82YU00W7IN Laptop (AMD Ryzen 3 ...</td>\n",
       "      <td>Lenovo</td>\n",
       "      <td>26690</td>\n",
       "      <td>4.45</td>\n",
       "      <td>AMD</td>\n",
       "      <td>7.0</td>\n",
       "      <td>4.0</td>\n",
       "      <td>0</td>\n",
       "      <td>8</td>\n",
       "      <td>LPDDR5</td>\n",
       "      <td>512</td>\n",
       "      <td>SSD</td>\n",
       "      <td>AMD</td>\n",
       "      <td>15.6</td>\n",
       "      <td>1920</td>\n",
       "      <td>1080</td>\n",
       "      <td>False</td>\n",
       "      <td>Windows 11 OS</td>\n",
       "    </tr>\n",
       "    <tr>\n",
       "      <th>2</th>\n",
       "      <td>2</td>\n",
       "      <td>HP 15s-fq5007TU Laptop (12th Gen Core i3/ 8GB/...</td>\n",
       "      <td>HP</td>\n",
       "      <td>37012</td>\n",
       "      <td>4.65</td>\n",
       "      <td>Intel</td>\n",
       "      <td>12.0</td>\n",
       "      <td>6.0</td>\n",
       "      <td>0</td>\n",
       "      <td>8</td>\n",
       "      <td>DDR4</td>\n",
       "      <td>512</td>\n",
       "      <td>SSD</td>\n",
       "      <td>Intel</td>\n",
       "      <td>15.6</td>\n",
       "      <td>1920</td>\n",
       "      <td>1080</td>\n",
       "      <td>False</td>\n",
       "      <td>Windows 11 OS</td>\n",
       "    </tr>\n",
       "    <tr>\n",
       "      <th>3</th>\n",
       "      <td>3</td>\n",
       "      <td>Samsung Galaxy Book2 Pro 13 Laptop (12th Gen C...</td>\n",
       "      <td>Samsung</td>\n",
       "      <td>69990</td>\n",
       "      <td>4.75</td>\n",
       "      <td>Intel</td>\n",
       "      <td>12.0</td>\n",
       "      <td>12.0</td>\n",
       "      <td>0</td>\n",
       "      <td>16</td>\n",
       "      <td>LPDDR5</td>\n",
       "      <td>512</td>\n",
       "      <td>SSD</td>\n",
       "      <td>Intel</td>\n",
       "      <td>13.3</td>\n",
       "      <td>1080</td>\n",
       "      <td>1920</td>\n",
       "      <td>False</td>\n",
       "      <td>Windows 11 OS</td>\n",
       "    </tr>\n",
       "    <tr>\n",
       "      <th>4</th>\n",
       "      <td>4</td>\n",
       "      <td>Tecno Megabook T1 Laptop (11th Gen Core i3/ 8G...</td>\n",
       "      <td>Tecno</td>\n",
       "      <td>23990</td>\n",
       "      <td>4.25</td>\n",
       "      <td>Intel</td>\n",
       "      <td>11.0</td>\n",
       "      <td>2.0</td>\n",
       "      <td>0</td>\n",
       "      <td>8</td>\n",
       "      <td>LPDDR4</td>\n",
       "      <td>512</td>\n",
       "      <td>SSD</td>\n",
       "      <td>Intel</td>\n",
       "      <td>15.6</td>\n",
       "      <td>1920</td>\n",
       "      <td>1080</td>\n",
       "      <td>False</td>\n",
       "      <td>Windows 11 OS</td>\n",
       "    </tr>\n",
       "    <tr>\n",
       "      <th>...</th>\n",
       "      <td>...</td>\n",
       "      <td>...</td>\n",
       "      <td>...</td>\n",
       "      <td>...</td>\n",
       "      <td>...</td>\n",
       "      <td>...</td>\n",
       "      <td>...</td>\n",
       "      <td>...</td>\n",
       "      <td>...</td>\n",
       "      <td>...</td>\n",
       "      <td>...</td>\n",
       "      <td>...</td>\n",
       "      <td>...</td>\n",
       "      <td>...</td>\n",
       "      <td>...</td>\n",
       "      <td>...</td>\n",
       "      <td>...</td>\n",
       "      <td>...</td>\n",
       "      <td>...</td>\n",
       "    </tr>\n",
       "    <tr>\n",
       "      <th>1015</th>\n",
       "      <td>1015</td>\n",
       "      <td>MSI Creator Z17 HX Studio A13V Laptop</td>\n",
       "      <td>MSI</td>\n",
       "      <td>247999</td>\n",
       "      <td>4.45</td>\n",
       "      <td>Intel</td>\n",
       "      <td>13.0</td>\n",
       "      <td>14.0</td>\n",
       "      <td>0</td>\n",
       "      <td>32</td>\n",
       "      <td>DDR5</td>\n",
       "      <td>1000</td>\n",
       "      <td>SSD</td>\n",
       "      <td>NVIDIA</td>\n",
       "      <td>17.0</td>\n",
       "      <td>2560</td>\n",
       "      <td>1600</td>\n",
       "      <td>False</td>\n",
       "      <td>Windows 11 OS</td>\n",
       "    </tr>\n",
       "    <tr>\n",
       "      <th>1016</th>\n",
       "      <td>1016</td>\n",
       "      <td>MSI Stealth 16 Mercedes AMG Motorsport A13V Ga...</td>\n",
       "      <td>MSI</td>\n",
       "      <td>292990</td>\n",
       "      <td>4.20</td>\n",
       "      <td>Intel</td>\n",
       "      <td>13.0</td>\n",
       "      <td>14.0</td>\n",
       "      <td>0</td>\n",
       "      <td>32</td>\n",
       "      <td>DDR5</td>\n",
       "      <td>1000</td>\n",
       "      <td>SSD</td>\n",
       "      <td>NVIDIA</td>\n",
       "      <td>16.0</td>\n",
       "      <td>3840</td>\n",
       "      <td>2400</td>\n",
       "      <td>False</td>\n",
       "      <td>Windows 11 OS</td>\n",
       "    </tr>\n",
       "    <tr>\n",
       "      <th>1017</th>\n",
       "      <td>1017</td>\n",
       "      <td>HP Victus 15-fb0131AX Gaming Laptop (AMD Ryzen...</td>\n",
       "      <td>HP</td>\n",
       "      <td>58800</td>\n",
       "      <td>4.40</td>\n",
       "      <td>AMD</td>\n",
       "      <td>5.0</td>\n",
       "      <td>6.0</td>\n",
       "      <td>0</td>\n",
       "      <td>8</td>\n",
       "      <td>DDR4</td>\n",
       "      <td>512</td>\n",
       "      <td>SSD</td>\n",
       "      <td>AMD</td>\n",
       "      <td>15.6</td>\n",
       "      <td>1920</td>\n",
       "      <td>1080</td>\n",
       "      <td>False</td>\n",
       "      <td>Windows 11 OS</td>\n",
       "    </tr>\n",
       "    <tr>\n",
       "      <th>1018</th>\n",
       "      <td>1018</td>\n",
       "      <td>Asus Vivobook 16 2023 M1605YA-MB521WS Laptop (...</td>\n",
       "      <td>Asus</td>\n",
       "      <td>54999</td>\n",
       "      <td>4.25</td>\n",
       "      <td>AMD</td>\n",
       "      <td>7.0</td>\n",
       "      <td>6.0</td>\n",
       "      <td>0</td>\n",
       "      <td>8</td>\n",
       "      <td>DDR4</td>\n",
       "      <td>512</td>\n",
       "      <td>SSD</td>\n",
       "      <td>AMD</td>\n",
       "      <td>16.0</td>\n",
       "      <td>1920</td>\n",
       "      <td>1200</td>\n",
       "      <td>False</td>\n",
       "      <td>Windows 11 OS</td>\n",
       "    </tr>\n",
       "    <tr>\n",
       "      <th>1019</th>\n",
       "      <td>1019</td>\n",
       "      <td>Dell Inspiron 7630 IC7630GHHRH001ORS1 2 in 1 L...</td>\n",
       "      <td>Dell</td>\n",
       "      <td>94490</td>\n",
       "      <td>4.05</td>\n",
       "      <td>Intel</td>\n",
       "      <td>13.0</td>\n",
       "      <td>10.0</td>\n",
       "      <td>0</td>\n",
       "      <td>8</td>\n",
       "      <td>LPDDR5</td>\n",
       "      <td>512</td>\n",
       "      <td>SSD</td>\n",
       "      <td>Intel</td>\n",
       "      <td>16.0</td>\n",
       "      <td>1920</td>\n",
       "      <td>1200</td>\n",
       "      <td>True</td>\n",
       "      <td>Windows 11 OS</td>\n",
       "    </tr>\n",
       "  </tbody>\n",
       "</table>\n",
       "<p>1020 rows × 19 columns</p>\n",
       "</div>"
      ],
      "text/plain": [
       "      Unnamed: 0                                               Name    Brand  \\\n",
       "0              0  HP Victus 15-fb0157AX Gaming Laptop (AMD Ryzen...       HP   \n",
       "1              1  Lenovo V15 G4 ‎82YU00W7IN Laptop (AMD Ryzen 3 ...   Lenovo   \n",
       "2              2  HP 15s-fq5007TU Laptop (12th Gen Core i3/ 8GB/...       HP   \n",
       "3              3  Samsung Galaxy Book2 Pro 13 Laptop (12th Gen C...  Samsung   \n",
       "4              4  Tecno Megabook T1 Laptop (11th Gen Core i3/ 8G...    Tecno   \n",
       "...          ...                                                ...      ...   \n",
       "1015        1015              MSI Creator Z17 HX Studio A13V Laptop      MSI   \n",
       "1016        1016  MSI Stealth 16 Mercedes AMG Motorsport A13V Ga...      MSI   \n",
       "1017        1017  HP Victus 15-fb0131AX Gaming Laptop (AMD Ryzen...       HP   \n",
       "1018        1018  Asus Vivobook 16 2023 M1605YA-MB521WS Laptop (...     Asus   \n",
       "1019        1019  Dell Inspiron 7630 IC7630GHHRH001ORS1 2 in 1 L...     Dell   \n",
       "\n",
       "       Price  Rating Processor_brand  Processor_gen  Core_per_processor  \\\n",
       "0      50399    4.30             AMD            5.0                 6.0   \n",
       "1      26690    4.45             AMD            7.0                 4.0   \n",
       "2      37012    4.65           Intel           12.0                 6.0   \n",
       "3      69990    4.75           Intel           12.0                12.0   \n",
       "4      23990    4.25           Intel           11.0                 2.0   \n",
       "...      ...     ...             ...            ...                 ...   \n",
       "1015  247999    4.45           Intel           13.0                14.0   \n",
       "1016  292990    4.20           Intel           13.0                14.0   \n",
       "1017   58800    4.40             AMD            5.0                 6.0   \n",
       "1018   54999    4.25             AMD            7.0                 6.0   \n",
       "1019   94490    4.05           Intel           13.0                10.0   \n",
       "\n",
       "      Energy_Efficient_Units  RAM_GB RAM_type  Storage_capacity_GB  \\\n",
       "0                          0       8     DDR4                  512   \n",
       "1                          0       8   LPDDR5                  512   \n",
       "2                          0       8     DDR4                  512   \n",
       "3                          0      16   LPDDR5                  512   \n",
       "4                          0       8   LPDDR4                  512   \n",
       "...                      ...     ...      ...                  ...   \n",
       "1015                       0      32     DDR5                 1000   \n",
       "1016                       0      32     DDR5                 1000   \n",
       "1017                       0       8     DDR4                  512   \n",
       "1018                       0       8     DDR4                  512   \n",
       "1019                       0       8   LPDDR5                  512   \n",
       "\n",
       "     Storage_type Graphics_brand  Display_size_inches  Horizontal_pixel  \\\n",
       "0             SSD            AMD                 15.6              1920   \n",
       "1             SSD            AMD                 15.6              1920   \n",
       "2             SSD          Intel                 15.6              1920   \n",
       "3             SSD          Intel                 13.3              1080   \n",
       "4             SSD          Intel                 15.6              1920   \n",
       "...           ...            ...                  ...               ...   \n",
       "1015          SSD         NVIDIA                 17.0              2560   \n",
       "1016          SSD         NVIDIA                 16.0              3840   \n",
       "1017          SSD            AMD                 15.6              1920   \n",
       "1018          SSD            AMD                 16.0              1920   \n",
       "1019          SSD          Intel                 16.0              1920   \n",
       "\n",
       "      Vertical_pixel  Touch_screen Operating_system  \n",
       "0               1080          True    Windows 11 OS  \n",
       "1               1080         False    Windows 11 OS  \n",
       "2               1080         False    Windows 11 OS  \n",
       "3               1920         False    Windows 11 OS  \n",
       "4               1080         False    Windows 11 OS  \n",
       "...              ...           ...              ...  \n",
       "1015            1600         False    Windows 11 OS  \n",
       "1016            2400         False    Windows 11 OS  \n",
       "1017            1080         False    Windows 11 OS  \n",
       "1018            1200         False    Windows 11 OS  \n",
       "1019            1200          True    Windows 11 OS  \n",
       "\n",
       "[1020 rows x 19 columns]"
      ]
     },
     "execution_count": 144,
     "metadata": {},
     "output_type": "execute_result"
    }
   ],
   "source": [
    "data"
   ]
  },
  {
   "cell_type": "code",
   "execution_count": 145,
   "id": "f7545486-758c-4210-919f-a79506ee146d",
   "metadata": {},
   "outputs": [
    {
     "data": {
      "text/html": [
       "<div>\n",
       "<style scoped>\n",
       "    .dataframe tbody tr th:only-of-type {\n",
       "        vertical-align: middle;\n",
       "    }\n",
       "\n",
       "    .dataframe tbody tr th {\n",
       "        vertical-align: top;\n",
       "    }\n",
       "\n",
       "    .dataframe thead th {\n",
       "        text-align: right;\n",
       "    }\n",
       "</style>\n",
       "<table border=\"1\" class=\"dataframe\">\n",
       "  <thead>\n",
       "    <tr style=\"text-align: right;\">\n",
       "      <th></th>\n",
       "      <th>Unnamed: 0</th>\n",
       "      <th>Name</th>\n",
       "      <th>Brand</th>\n",
       "      <th>Price</th>\n",
       "      <th>Rating</th>\n",
       "      <th>Processor_brand</th>\n",
       "      <th>Processor_gen</th>\n",
       "      <th>Core_per_processor</th>\n",
       "      <th>Energy_Efficient_Units</th>\n",
       "      <th>RAM_GB</th>\n",
       "      <th>RAM_type</th>\n",
       "      <th>Storage_capacity_GB</th>\n",
       "      <th>Storage_type</th>\n",
       "      <th>Graphics_brand</th>\n",
       "      <th>Display_size_inches</th>\n",
       "      <th>Horizontal_pixel</th>\n",
       "      <th>Vertical_pixel</th>\n",
       "      <th>Touch_screen</th>\n",
       "      <th>Operating_system</th>\n",
       "    </tr>\n",
       "  </thead>\n",
       "  <tbody>\n",
       "    <tr>\n",
       "      <th>0</th>\n",
       "      <td>0</td>\n",
       "      <td>HP Victus 15-fb0157AX Gaming Laptop (AMD Ryzen...</td>\n",
       "      <td>HP</td>\n",
       "      <td>50399</td>\n",
       "      <td>4.30</td>\n",
       "      <td>AMD</td>\n",
       "      <td>5.0</td>\n",
       "      <td>6.0</td>\n",
       "      <td>0</td>\n",
       "      <td>8</td>\n",
       "      <td>DDR4</td>\n",
       "      <td>512</td>\n",
       "      <td>SSD</td>\n",
       "      <td>AMD</td>\n",
       "      <td>15.6</td>\n",
       "      <td>1920</td>\n",
       "      <td>1080</td>\n",
       "      <td>True</td>\n",
       "      <td>Windows 11 OS</td>\n",
       "    </tr>\n",
       "    <tr>\n",
       "      <th>1</th>\n",
       "      <td>1</td>\n",
       "      <td>Lenovo V15 G4 ‎82YU00W7IN Laptop (AMD Ryzen 3 ...</td>\n",
       "      <td>Lenovo</td>\n",
       "      <td>26690</td>\n",
       "      <td>4.45</td>\n",
       "      <td>AMD</td>\n",
       "      <td>7.0</td>\n",
       "      <td>4.0</td>\n",
       "      <td>0</td>\n",
       "      <td>8</td>\n",
       "      <td>LPDDR5</td>\n",
       "      <td>512</td>\n",
       "      <td>SSD</td>\n",
       "      <td>AMD</td>\n",
       "      <td>15.6</td>\n",
       "      <td>1920</td>\n",
       "      <td>1080</td>\n",
       "      <td>False</td>\n",
       "      <td>Windows 11 OS</td>\n",
       "    </tr>\n",
       "    <tr>\n",
       "      <th>2</th>\n",
       "      <td>2</td>\n",
       "      <td>HP 15s-fq5007TU Laptop (12th Gen Core i3/ 8GB/...</td>\n",
       "      <td>HP</td>\n",
       "      <td>37012</td>\n",
       "      <td>4.65</td>\n",
       "      <td>Intel</td>\n",
       "      <td>12.0</td>\n",
       "      <td>6.0</td>\n",
       "      <td>0</td>\n",
       "      <td>8</td>\n",
       "      <td>DDR4</td>\n",
       "      <td>512</td>\n",
       "      <td>SSD</td>\n",
       "      <td>Intel</td>\n",
       "      <td>15.6</td>\n",
       "      <td>1920</td>\n",
       "      <td>1080</td>\n",
       "      <td>False</td>\n",
       "      <td>Windows 11 OS</td>\n",
       "    </tr>\n",
       "    <tr>\n",
       "      <th>3</th>\n",
       "      <td>3</td>\n",
       "      <td>Samsung Galaxy Book2 Pro 13 Laptop (12th Gen C...</td>\n",
       "      <td>Samsung</td>\n",
       "      <td>69990</td>\n",
       "      <td>4.75</td>\n",
       "      <td>Intel</td>\n",
       "      <td>12.0</td>\n",
       "      <td>12.0</td>\n",
       "      <td>0</td>\n",
       "      <td>16</td>\n",
       "      <td>LPDDR5</td>\n",
       "      <td>512</td>\n",
       "      <td>SSD</td>\n",
       "      <td>Intel</td>\n",
       "      <td>13.3</td>\n",
       "      <td>1080</td>\n",
       "      <td>1920</td>\n",
       "      <td>False</td>\n",
       "      <td>Windows 11 OS</td>\n",
       "    </tr>\n",
       "    <tr>\n",
       "      <th>4</th>\n",
       "      <td>4</td>\n",
       "      <td>Tecno Megabook T1 Laptop (11th Gen Core i3/ 8G...</td>\n",
       "      <td>Tecno</td>\n",
       "      <td>23990</td>\n",
       "      <td>4.25</td>\n",
       "      <td>Intel</td>\n",
       "      <td>11.0</td>\n",
       "      <td>2.0</td>\n",
       "      <td>0</td>\n",
       "      <td>8</td>\n",
       "      <td>LPDDR4</td>\n",
       "      <td>512</td>\n",
       "      <td>SSD</td>\n",
       "      <td>Intel</td>\n",
       "      <td>15.6</td>\n",
       "      <td>1920</td>\n",
       "      <td>1080</td>\n",
       "      <td>False</td>\n",
       "      <td>Windows 11 OS</td>\n",
       "    </tr>\n",
       "  </tbody>\n",
       "</table>\n",
       "</div>"
      ],
      "text/plain": [
       "   Unnamed: 0                                               Name    Brand  \\\n",
       "0           0  HP Victus 15-fb0157AX Gaming Laptop (AMD Ryzen...       HP   \n",
       "1           1  Lenovo V15 G4 ‎82YU00W7IN Laptop (AMD Ryzen 3 ...   Lenovo   \n",
       "2           2  HP 15s-fq5007TU Laptop (12th Gen Core i3/ 8GB/...       HP   \n",
       "3           3  Samsung Galaxy Book2 Pro 13 Laptop (12th Gen C...  Samsung   \n",
       "4           4  Tecno Megabook T1 Laptop (11th Gen Core i3/ 8G...    Tecno   \n",
       "\n",
       "   Price  Rating Processor_brand  Processor_gen  Core_per_processor  \\\n",
       "0  50399    4.30             AMD            5.0                 6.0   \n",
       "1  26690    4.45             AMD            7.0                 4.0   \n",
       "2  37012    4.65           Intel           12.0                 6.0   \n",
       "3  69990    4.75           Intel           12.0                12.0   \n",
       "4  23990    4.25           Intel           11.0                 2.0   \n",
       "\n",
       "   Energy_Efficient_Units  RAM_GB RAM_type  Storage_capacity_GB Storage_type  \\\n",
       "0                       0       8     DDR4                  512          SSD   \n",
       "1                       0       8   LPDDR5                  512          SSD   \n",
       "2                       0       8     DDR4                  512          SSD   \n",
       "3                       0      16   LPDDR5                  512          SSD   \n",
       "4                       0       8   LPDDR4                  512          SSD   \n",
       "\n",
       "  Graphics_brand  Display_size_inches  Horizontal_pixel  Vertical_pixel  \\\n",
       "0            AMD                 15.6              1920            1080   \n",
       "1            AMD                 15.6              1920            1080   \n",
       "2          Intel                 15.6              1920            1080   \n",
       "3          Intel                 13.3              1080            1920   \n",
       "4          Intel                 15.6              1920            1080   \n",
       "\n",
       "   Touch_screen Operating_system  \n",
       "0          True    Windows 11 OS  \n",
       "1         False    Windows 11 OS  \n",
       "2         False    Windows 11 OS  \n",
       "3         False    Windows 11 OS  \n",
       "4         False    Windows 11 OS  "
      ]
     },
     "execution_count": 145,
     "metadata": {},
     "output_type": "execute_result"
    }
   ],
   "source": [
    "data.head()"
   ]
  },
  {
   "cell_type": "markdown",
   "id": "0a487df1-07ef-49b6-a8fc-5448aca22f48",
   "metadata": {},
   "source": [
    "## Q2 Considering the nature of the dataset, would it be moresuitable to employ Supervised or Unsupervised Machine Learning techniques?\n",
    "###  Ans: Supervised Machine Learning Technique beause we have labeled data."
   ]
  },
  {
   "cell_type": "markdown",
   "id": "326e1f46-06ee-4238-a3b7-86cc29f16e47",
   "metadata": {},
   "source": [
    "## Q3 If Supervised learning is deemed appropriate ,  what type of problem statement does it represent - Regression or Classification?\n",
    "###  Ans : it represents regression type of problem statement because we want to predict price which is continuous."
   ]
  },
  {
   "cell_type": "markdown",
   "id": "6a18ac91-f360-4161-bac5-3029bb0cdd9b",
   "metadata": {},
   "source": [
    "## Q4. What methods can be employed to assess the quality of the  data, including its shape and data types??"
   ]
  },
  {
   "cell_type": "markdown",
   "id": "f1c77f05-6423-4707-8351-218cddad433c",
   "metadata": {},
   "source": [
    "### Check the columns name."
   ]
  },
  {
   "cell_type": "code",
   "execution_count": 146,
   "id": "35928bad-a68b-49ae-ac0d-8d24ab44cd26",
   "metadata": {},
   "outputs": [
    {
     "data": {
      "text/plain": [
       "Index(['Unnamed: 0', 'Name', 'Brand', 'Price', 'Rating', 'Processor_brand',\n",
       "       'Processor_gen', 'Core_per_processor', 'Energy_Efficient_Units',\n",
       "       'RAM_GB', 'RAM_type', 'Storage_capacity_GB', 'Storage_type',\n",
       "       'Graphics_brand', 'Display_size_inches', 'Horizontal_pixel',\n",
       "       'Vertical_pixel', 'Touch_screen', 'Operating_system'],\n",
       "      dtype='object')"
      ]
     },
     "execution_count": 146,
     "metadata": {},
     "output_type": "execute_result"
    }
   ],
   "source": [
    "data.columns "
   ]
  },
  {
   "cell_type": "markdown",
   "id": "bbfaf6cf-5a5f-47a0-8a06-9dc8bd2136c3",
   "metadata": {},
   "source": [
    "### Summarize the dataset"
   ]
  },
  {
   "cell_type": "code",
   "execution_count": 147,
   "id": "1ae8e579-f714-40f8-9493-51df49903b9d",
   "metadata": {},
   "outputs": [
    {
     "data": {
      "text/html": [
       "<div>\n",
       "<style scoped>\n",
       "    .dataframe tbody tr th:only-of-type {\n",
       "        vertical-align: middle;\n",
       "    }\n",
       "\n",
       "    .dataframe tbody tr th {\n",
       "        vertical-align: top;\n",
       "    }\n",
       "\n",
       "    .dataframe thead th {\n",
       "        text-align: right;\n",
       "    }\n",
       "</style>\n",
       "<table border=\"1\" class=\"dataframe\">\n",
       "  <thead>\n",
       "    <tr style=\"text-align: right;\">\n",
       "      <th></th>\n",
       "      <th>Unnamed: 0</th>\n",
       "      <th>Price</th>\n",
       "      <th>Rating</th>\n",
       "      <th>Processor_gen</th>\n",
       "      <th>Core_per_processor</th>\n",
       "      <th>Energy_Efficient_Units</th>\n",
       "      <th>RAM_GB</th>\n",
       "      <th>Storage_capacity_GB</th>\n",
       "      <th>Display_size_inches</th>\n",
       "      <th>Horizontal_pixel</th>\n",
       "      <th>Vertical_pixel</th>\n",
       "    </tr>\n",
       "  </thead>\n",
       "  <tbody>\n",
       "    <tr>\n",
       "      <th>count</th>\n",
       "      <td>1020.000000</td>\n",
       "      <td>1020.000000</td>\n",
       "      <td>1020.000000</td>\n",
       "      <td>891.000000</td>\n",
       "      <td>1008.000000</td>\n",
       "      <td>1020.000000</td>\n",
       "      <td>1020.000000</td>\n",
       "      <td>1020.000000</td>\n",
       "      <td>1020.000000</td>\n",
       "      <td>1020.000000</td>\n",
       "      <td>1020.000000</td>\n",
       "    </tr>\n",
       "    <tr>\n",
       "      <th>mean</th>\n",
       "      <td>509.500000</td>\n",
       "      <td>82063.474510</td>\n",
       "      <td>4.373676</td>\n",
       "      <td>10.450056</td>\n",
       "      <td>8.572421</td>\n",
       "      <td>0.043137</td>\n",
       "      <td>13.992157</td>\n",
       "      <td>627.733333</td>\n",
       "      <td>15.163775</td>\n",
       "      <td>2035.512745</td>\n",
       "      <td>1214.019608</td>\n",
       "    </tr>\n",
       "    <tr>\n",
       "      <th>std</th>\n",
       "      <td>294.592939</td>\n",
       "      <td>66502.150607</td>\n",
       "      <td>0.233295</td>\n",
       "      <td>2.966579</td>\n",
       "      <td>4.375012</td>\n",
       "      <td>0.203266</td>\n",
       "      <td>7.189564</td>\n",
       "      <td>316.911679</td>\n",
       "      <td>1.001537</td>\n",
       "      <td>409.209289</td>\n",
       "      <td>306.863086</td>\n",
       "    </tr>\n",
       "    <tr>\n",
       "      <th>min</th>\n",
       "      <td>0.000000</td>\n",
       "      <td>8000.000000</td>\n",
       "      <td>3.950000</td>\n",
       "      <td>1.000000</td>\n",
       "      <td>2.000000</td>\n",
       "      <td>0.000000</td>\n",
       "      <td>2.000000</td>\n",
       "      <td>32.000000</td>\n",
       "      <td>11.600000</td>\n",
       "      <td>1080.000000</td>\n",
       "      <td>768.000000</td>\n",
       "    </tr>\n",
       "    <tr>\n",
       "      <th>25%</th>\n",
       "      <td>254.750000</td>\n",
       "      <td>43990.000000</td>\n",
       "      <td>4.200000</td>\n",
       "      <td>7.000000</td>\n",
       "      <td>6.000000</td>\n",
       "      <td>0.000000</td>\n",
       "      <td>8.000000</td>\n",
       "      <td>512.000000</td>\n",
       "      <td>14.000000</td>\n",
       "      <td>1920.000000</td>\n",
       "      <td>1080.000000</td>\n",
       "    </tr>\n",
       "    <tr>\n",
       "      <th>50%</th>\n",
       "      <td>509.500000</td>\n",
       "      <td>63689.500000</td>\n",
       "      <td>4.350000</td>\n",
       "      <td>12.000000</td>\n",
       "      <td>8.000000</td>\n",
       "      <td>0.000000</td>\n",
       "      <td>16.000000</td>\n",
       "      <td>512.000000</td>\n",
       "      <td>15.600000</td>\n",
       "      <td>1920.000000</td>\n",
       "      <td>1080.000000</td>\n",
       "    </tr>\n",
       "    <tr>\n",
       "      <th>75%</th>\n",
       "      <td>764.250000</td>\n",
       "      <td>94990.000000</td>\n",
       "      <td>4.550000</td>\n",
       "      <td>13.000000</td>\n",
       "      <td>10.000000</td>\n",
       "      <td>0.000000</td>\n",
       "      <td>16.000000</td>\n",
       "      <td>512.000000</td>\n",
       "      <td>15.600000</td>\n",
       "      <td>1920.000000</td>\n",
       "      <td>1200.000000</td>\n",
       "    </tr>\n",
       "    <tr>\n",
       "      <th>max</th>\n",
       "      <td>1019.000000</td>\n",
       "      <td>599990.000000</td>\n",
       "      <td>4.750000</td>\n",
       "      <td>14.000000</td>\n",
       "      <td>24.000000</td>\n",
       "      <td>1.000000</td>\n",
       "      <td>64.000000</td>\n",
       "      <td>4000.000000</td>\n",
       "      <td>18.000000</td>\n",
       "      <td>3840.000000</td>\n",
       "      <td>2560.000000</td>\n",
       "    </tr>\n",
       "  </tbody>\n",
       "</table>\n",
       "</div>"
      ],
      "text/plain": [
       "        Unnamed: 0          Price       Rating  Processor_gen  \\\n",
       "count  1020.000000    1020.000000  1020.000000     891.000000   \n",
       "mean    509.500000   82063.474510     4.373676      10.450056   \n",
       "std     294.592939   66502.150607     0.233295       2.966579   \n",
       "min       0.000000    8000.000000     3.950000       1.000000   \n",
       "25%     254.750000   43990.000000     4.200000       7.000000   \n",
       "50%     509.500000   63689.500000     4.350000      12.000000   \n",
       "75%     764.250000   94990.000000     4.550000      13.000000   \n",
       "max    1019.000000  599990.000000     4.750000      14.000000   \n",
       "\n",
       "       Core_per_processor  Energy_Efficient_Units       RAM_GB  \\\n",
       "count         1008.000000             1020.000000  1020.000000   \n",
       "mean             8.572421                0.043137    13.992157   \n",
       "std              4.375012                0.203266     7.189564   \n",
       "min              2.000000                0.000000     2.000000   \n",
       "25%              6.000000                0.000000     8.000000   \n",
       "50%              8.000000                0.000000    16.000000   \n",
       "75%             10.000000                0.000000    16.000000   \n",
       "max             24.000000                1.000000    64.000000   \n",
       "\n",
       "       Storage_capacity_GB  Display_size_inches  Horizontal_pixel  \\\n",
       "count          1020.000000          1020.000000       1020.000000   \n",
       "mean            627.733333            15.163775       2035.512745   \n",
       "std             316.911679             1.001537        409.209289   \n",
       "min              32.000000            11.600000       1080.000000   \n",
       "25%             512.000000            14.000000       1920.000000   \n",
       "50%             512.000000            15.600000       1920.000000   \n",
       "75%             512.000000            15.600000       1920.000000   \n",
       "max            4000.000000            18.000000       3840.000000   \n",
       "\n",
       "       Vertical_pixel  \n",
       "count     1020.000000  \n",
       "mean      1214.019608  \n",
       "std        306.863086  \n",
       "min        768.000000  \n",
       "25%       1080.000000  \n",
       "50%       1080.000000  \n",
       "75%       1200.000000  \n",
       "max       2560.000000  "
      ]
     },
     "execution_count": 147,
     "metadata": {},
     "output_type": "execute_result"
    }
   ],
   "source": [
    "data.describe()"
   ]
  },
  {
   "cell_type": "markdown",
   "id": "dc0ae1bf-862a-4ce7-a3d4-6e1d0950b97e",
   "metadata": {},
   "source": [
    "### Check data types "
   ]
  },
  {
   "cell_type": "code",
   "execution_count": 148,
   "id": "1fd3514c-f5cc-4e91-ab2b-759dab37029f",
   "metadata": {
    "scrolled": true
   },
   "outputs": [
    {
     "name": "stdout",
     "output_type": "stream",
     "text": [
      "<class 'pandas.core.frame.DataFrame'>\n",
      "RangeIndex: 1020 entries, 0 to 1019\n",
      "Data columns (total 19 columns):\n",
      " #   Column                  Non-Null Count  Dtype  \n",
      "---  ------                  --------------  -----  \n",
      " 0   Unnamed: 0              1020 non-null   int64  \n",
      " 1   Name                    1020 non-null   object \n",
      " 2   Brand                   1020 non-null   object \n",
      " 3   Price                   1020 non-null   int64  \n",
      " 4   Rating                  1020 non-null   float64\n",
      " 5   Processor_brand         1020 non-null   object \n",
      " 6   Processor_gen           891 non-null    float64\n",
      " 7   Core_per_processor      1008 non-null   float64\n",
      " 8   Energy_Efficient_Units  1020 non-null   int64  \n",
      " 9   RAM_GB                  1020 non-null   int64  \n",
      " 10  RAM_type                998 non-null    object \n",
      " 11  Storage_capacity_GB     1020 non-null   int64  \n",
      " 12  Storage_type            1020 non-null   object \n",
      " 13  Graphics_brand          1018 non-null   object \n",
      " 14  Display_size_inches     1020 non-null   float64\n",
      " 15  Horizontal_pixel        1020 non-null   int64  \n",
      " 16  Vertical_pixel          1020 non-null   int64  \n",
      " 17  Touch_screen            1020 non-null   bool   \n",
      " 18  Operating_system        1020 non-null   object \n",
      "dtypes: bool(1), float64(4), int64(7), object(7)\n",
      "memory usage: 144.6+ KB\n"
     ]
    }
   ],
   "source": [
    "data.info()"
   ]
  },
  {
   "cell_type": "markdown",
   "id": "892e512d-994b-44e5-a852-b7509316d960",
   "metadata": {},
   "source": [
    "### Check the shape of the dataset (rows, columns)"
   ]
  },
  {
   "cell_type": "code",
   "execution_count": 149,
   "id": "d70e304c-b545-4a83-b475-56b517c1f45f",
   "metadata": {},
   "outputs": [
    {
     "data": {
      "text/plain": [
       "(1020, 19)"
      ]
     },
     "execution_count": 149,
     "metadata": {},
     "output_type": "execute_result"
    }
   ],
   "source": [
    "data.shape"
   ]
  },
  {
   "cell_type": "markdown",
   "id": "17f1a93b-5cf1-44ec-9c0a-fe5b718b9778",
   "metadata": {},
   "source": [
    "# Q5. How can null values within the dataset be identified and handled effectively?"
   ]
  },
  {
   "cell_type": "markdown",
   "id": "01c02d20-f1e4-48d9-9574-4383e82f2f28",
   "metadata": {},
   "source": [
    "## check null values"
   ]
  },
  {
   "cell_type": "code",
   "execution_count": 150,
   "id": "5df03b25-8e7a-4ab3-bbe2-e82db004a34e",
   "metadata": {},
   "outputs": [
    {
     "data": {
      "text/plain": [
       "Unnamed: 0                  0\n",
       "Name                        0\n",
       "Brand                       0\n",
       "Price                       0\n",
       "Rating                      0\n",
       "Processor_brand             0\n",
       "Processor_gen             129\n",
       "Core_per_processor         12\n",
       "Energy_Efficient_Units      0\n",
       "RAM_GB                      0\n",
       "RAM_type                   22\n",
       "Storage_capacity_GB         0\n",
       "Storage_type                0\n",
       "Graphics_brand              2\n",
       "Display_size_inches         0\n",
       "Horizontal_pixel            0\n",
       "Vertical_pixel              0\n",
       "Touch_screen                0\n",
       "Operating_system            0\n",
       "dtype: int64"
      ]
     },
     "execution_count": 150,
     "metadata": {},
     "output_type": "execute_result"
    }
   ],
   "source": [
    "data.isnull().sum()"
   ]
  },
  {
   "cell_type": "markdown",
   "id": "63afef7a-5659-4c59-981a-2f3f82651ab5",
   "metadata": {},
   "source": [
    "## Handling null values with mode values."
   ]
  },
  {
   "cell_type": "code",
   "execution_count": 151,
   "id": "996655f6-b8e6-4b4e-ad3b-436c9fce33ea",
   "metadata": {},
   "outputs": [],
   "source": [
    "    data['Processor_gen'].fillna(data['Processor_gen'].mode()[0], inplace=True)\n",
    "data['RAM_type'].fillna(data['RAM_type'].mode()[0], inplace=True)\n",
    "data['Core_per_processor'].fillna(data['Core_per_processor'].median(), inplace=True)\n",
    "data['Graphics_brand'].fillna(data['Graphics_brand'].mode()[0], inplace=True)\n",
    "\n"
   ]
  },
  {
   "cell_type": "markdown",
   "id": "927dad8b-e569-4934-9dca-8b950c04a632",
   "metadata": {},
   "source": [
    "## Now we have data without null values"
   ]
  },
  {
   "cell_type": "code",
   "execution_count": 152,
   "id": "505144b5-a7a8-4e05-8840-b8da63a6777c",
   "metadata": {},
   "outputs": [
    {
     "data": {
      "text/plain": [
       "Unnamed: 0                0\n",
       "Name                      0\n",
       "Brand                     0\n",
       "Price                     0\n",
       "Rating                    0\n",
       "Processor_brand           0\n",
       "Processor_gen             0\n",
       "Core_per_processor        0\n",
       "Energy_Efficient_Units    0\n",
       "RAM_GB                    0\n",
       "RAM_type                  0\n",
       "Storage_capacity_GB       0\n",
       "Storage_type              0\n",
       "Graphics_brand            0\n",
       "Display_size_inches       0\n",
       "Horizontal_pixel          0\n",
       "Vertical_pixel            0\n",
       "Touch_screen              0\n",
       "Operating_system          0\n",
       "dtype: int64"
      ]
     },
     "execution_count": 152,
     "metadata": {},
     "output_type": "execute_result"
    }
   ],
   "source": [
    "data.isnull().sum()"
   ]
  },
  {
   "cell_type": "markdown",
   "id": "c8757693-62c4-445d-a1fd-c94cd691fb8d",
   "metadata": {},
   "source": [
    "# Q6. Appropriate form of analysis should be presented and descripted in form of comments headings and analysis? "
   ]
  },
  {
   "cell_type": "code",
   "execution_count": 153,
   "id": "7f724589-d397-4a86-9c09-0b665625beec",
   "metadata": {},
   "outputs": [],
   "source": [
    "import matplotlib.pyplot as plt\n",
    "import seaborn as sns"
   ]
  },
  {
   "cell_type": "markdown",
   "id": "ac8bdb97-fc21-487e-9b03-a53bc432c002",
   "metadata": {},
   "source": [
    " ## histplot for some analysis of data "
   ]
  },
  {
   "cell_type": "code",
   "execution_count": 154,
   "id": "db974c8c-a2c7-4ac7-a1ce-40b386d0e32d",
   "metadata": {},
   "outputs": [
    {
     "data": {
      "image/png": "[encoded data removed]",
      "text/plain": [
       "<Figure size 1200x800 with 1 Axes>"
      ]
     },
     "metadata": {},
     "output_type": "display_data"
    }
   ],
   "source": [
    "plt.figure(figsize=(12, 8))\n",
    "sns.histplot(data['Price'], bins=20, kde=True, color='orange')\n",
    "plt.title('Prices Distribution of Laptop')\n",
    "plt.xlabel('Price')\n",
    "plt.ylabel('Frequency')\n",
    "plt.show()\n"
   ]
  },
  {
   "cell_type": "markdown",
   "id": "333de138-2cae-4f59-a95a-ac483c668b83",
   "metadata": {},
   "source": [
    "## scatter plot for price vs ratings "
   ]
  },
  {
   "cell_type": "code",
   "execution_count": 155,
   "id": "8f2be619-35e9-4fa1-bc88-381dbc3da4c8",
   "metadata": {},
   "outputs": [
    {
     "data": {
      "image/png": "[encoded data removed]",
      "text/plain": [
       "<Figure size 1000x600 with 1 Axes>"
      ]
     },
     "metadata": {},
     "output_type": "display_data"
    }
   ],
   "source": [
    "plt.figure(figsize=(10, 6))\n",
    "plt.scatter(data['Rating'],data['Price'], color='orange', alpha=0.5)\n",
    "plt.xlabel('Rating')\n",
    "plt.ylabel('Price')\n",
    "plt.title('Relationship between Price and Rating')\n",
    "plt.grid(True)\n",
    "plt.show()\n"
   ]
  },
  {
   "cell_type": "markdown",
   "id": "3f776ea8-07de-4b55-9553-eb4d74115006",
   "metadata": {},
   "source": [
    "## Correlation heatmap to find relayionship between variables"
   ]
  },
  {
   "cell_type": "code",
   "execution_count": 156,
   "id": "47823ed1-48ad-4e37-9db2-0754dacc851a",
   "metadata": {},
   "outputs": [
    {
     "data": {
      "image/png": "[encoded data removed]",
      "text/plain": [
       "<Figure size 1200x800 with 2 Axes>"
      ]
     },
     "metadata": {},
     "output_type": "display_data"
    }
   ],
   "source": [
    "plt.figure(figsize=(12, 8))\n",
    "features_to_include = ['Price', 'RAM_GB', 'Storage_capacity_GB', 'Display_size_inches', 'Horizontal_pixel', 'Vertical_pixel']\n",
    "sns.heatmap(data[features_to_include].corr(), annot=True, cmap=\"autumn\")\n",
    "plt.xlabel(\"Laptop Features\")\n",
    "plt.ylabel(\"Laptop Features\")\n",
    "plt.title(\"Correlation Heatmap of Laptop Features\")\n",
    "plt.show()\n"
   ]
  },
  {
   "cell_type": "markdown",
   "id": "118fbd0c-b8b8-4c95-a828-6537ca3894dd",
   "metadata": {},
   "source": [
    "# Q7. What techniques can be utilized to detect and eliminate any outliers present in the dataset?"
   ]
  },
  {
   "cell_type": "markdown",
   "id": "8eec94c5-00f3-4214-9b14-2be358fdd186",
   "metadata": {},
   "source": [
    "## Detecting outliers and Removing outliers with IQR method"
   ]
  },
  {
   "cell_type": "code",
   "execution_count": 157,
   "id": "bc532c6a-daa0-45dd-818e-d8da46e76ef2",
   "metadata": {},
   "outputs": [],
   "source": [
    "import numpy as np\n",
    "import seaborn as sns"
   ]
  },
  {
   "cell_type": "code",
   "execution_count": 158,
   "id": "763d215e-11d6-4b38-b0bd-6a166e829c5a",
   "metadata": {},
   "outputs": [
    {
     "data": {
      "image/png": "[encoded data removed]",
      "text/plain": [
       "<Figure size 800x600 with 1 Axes>"
      ]
     },
     "metadata": {},
     "output_type": "display_data"
    },
    {
     "name": "stdout",
     "output_type": "stream",
     "text": [
      "clean data:\n",
      "      Unnamed: 0                                               Name    Brand  \\\n",
      "26            26  Samsung Galaxy Book 4 Ultra Laptop (Intel Core...  Samsung   \n",
      "76            76  Asus ROG Strix SCAR 16 2024 G634JYR-RA001WS Ga...     Asus   \n",
      "80            80  MSI Titan 18 HX Gaming Laptop (14th Gen Core i...      MSI   \n",
      "81            81  Samsung Galaxy Book 4 Pro 360 Laptop (Intel Co...  Samsung   \n",
      "83            83  Apple MacBook Pro 16 2023 Laptop (Apple M3 Max...    Apple   \n",
      "...          ...                                                ...      ...   \n",
      "974          974  Lenovo Legion Pro 7i 2023 Gaming Laptop (13th ...   Lenovo   \n",
      "977          977  LG Gram 2 in 1 16 Laptop (13th Gen Core i5/ 8G...       LG   \n",
      "994          994  Dell Alienware x14 R2 Gaming Laptop (13th Gen ...     Dell   \n",
      "1015        1015              MSI Creator Z17 HX Studio A13V Laptop      MSI   \n",
      "1016        1016  MSI Stealth 16 Mercedes AMG Motorsport A13V Ga...      MSI   \n",
      "\n",
      "       Price  Rating Processor_brand  Processor_gen  Core_per_processor  \\\n",
      "26    299999    4.15           Intel           13.0                16.0   \n",
      "76    329990    4.20           Intel           14.0                24.0   \n",
      "80    599990    4.20           Intel           14.0                 8.0   \n",
      "81    199990    4.40           Intel           13.0                16.0   \n",
      "83    399900    4.65           Apple           13.0                16.0   \n",
      "...      ...     ...             ...            ...                 ...   \n",
      "974   286200    4.35           Intel           13.0                24.0   \n",
      "977   205000    4.45           Intel           13.0                12.0   \n",
      "994   199990    4.10           Intel           13.0                10.0   \n",
      "1015  247999    4.45           Intel           13.0                14.0   \n",
      "1016  292990    4.20           Intel           13.0                14.0   \n",
      "\n",
      "      Energy_Efficient_Units  RAM_GB RAM_type  Storage_capacity_GB  \\\n",
      "26                         1      32  LPDDR5X                 1000   \n",
      "76                         0      32     DDR5                 2000   \n",
      "80                         0      32     DDR5                 2000   \n",
      "81                         1      16  LPDDR5X                  512   \n",
      "83                         0      48     DDR4                 1000   \n",
      "...                      ...     ...      ...                  ...   \n",
      "974                        0      32     DDR5                 1000   \n",
      "977                        0       8   LPDDR5                  256   \n",
      "994                        0      16   LPDDR5                 1000   \n",
      "1015                       0      32     DDR5                 1000   \n",
      "1016                       0      32     DDR5                 1000   \n",
      "\n",
      "     Storage_type Graphics_brand  Display_size_inches  Horizontal_pixel  \\\n",
      "26            SSD         NVIDIA                 16.0              2880   \n",
      "76            SSD         NVIDIA                 16.0              2560   \n",
      "80            SSD         NVIDIA                 18.0              3840   \n",
      "81            SSD          Intel                 16.0              2880   \n",
      "83            SSD          Apple                 16.2              3456   \n",
      "...           ...            ...                  ...               ...   \n",
      "974           SSD         NVIDIA                 16.0              2560   \n",
      "977           SSD          Intel                 16.0              1600   \n",
      "994           SSD         NVIDIA                 14.0              2560   \n",
      "1015          SSD         NVIDIA                 17.0              2560   \n",
      "1016          SSD         NVIDIA                 16.0              3840   \n",
      "\n",
      "      Vertical_pixel  Touch_screen Operating_system  \n",
      "26              1800          True    Windows 11 OS  \n",
      "76              1600         False    Windows 11 OS  \n",
      "80              2400         False    Windows 11 OS  \n",
      "81              1800          True    Windows 11 OS  \n",
      "83              2234         False           Mac OS  \n",
      "...              ...           ...              ...  \n",
      "974             1600         False    Windows 11 OS  \n",
      "977             2560          True    Windows 11 OS  \n",
      "994             1600         False    Windows 11 OS  \n",
      "1015            1600         False    Windows 11 OS  \n",
      "1016            2400         False    Windows 11 OS  \n",
      "\n",
      "[78 rows x 19 columns]\n"
     ]
    }
   ],
   "source": [
    "Q1 = data['Price'].quantile(0.25)\n",
    "Q3 = data['Price'].quantile(0.75)\n",
    "\n",
    "IQR = Q3 - Q1\n",
    "\n",
    "lower_bound = Q1 - 1.5 * IQR\n",
    "upper_bound = Q3 + 1.5 * IQR\n",
    "\n",
    "plt.figure(figsize=(8, 6))\n",
    "sns.boxplot(x=data['Price'])\n",
    "plt.title(\"Box Plot for Price Outlier Detection\")\n",
    "plt.xlabel(\"Price\")\n",
    "plt.show()\n",
    "\n",
    "data_cleaned = data[(data['Price'] < lower_bound) | (data['Price'] > upper_bound)]\n",
    "print(\"clean data:\")\n",
    "print(data_cleaned)\n"
   ]
  },
  {
   "cell_type": "markdown",
   "id": "03bd4d7a-1373-4148-bcf5-312d8770a26b",
   "metadata": {},
   "source": [
    "# Q8. In cases where categorical variables are present, how can they be encoded using appropriate techniques?"
   ]
  },
  {
   "cell_type": "markdown",
   "id": "b71d80f1-bda3-4915-901c-ef721bca0c1a",
   "metadata": {},
   "source": [
    "## checking info for encoding purpose"
   ]
  },
  {
   "cell_type": "code",
   "execution_count": 159,
   "id": "27bfc708-c73e-49c6-a075-fd0ad96d9912",
   "metadata": {},
   "outputs": [
    {
     "name": "stdout",
     "output_type": "stream",
     "text": [
      "<class 'pandas.core.frame.DataFrame'>\n",
      "RangeIndex: 1020 entries, 0 to 1019\n",
      "Data columns (total 19 columns):\n",
      " #   Column                  Non-Null Count  Dtype  \n",
      "---  ------                  --------------  -----  \n",
      " 0   Unnamed: 0              1020 non-null   int64  \n",
      " 1   Name                    1020 non-null   object \n",
      " 2   Brand                   1020 non-null   object \n",
      " 3   Price                   1020 non-null   int64  \n",
      " 4   Rating                  1020 non-null   float64\n",
      " 5   Processor_brand         1020 non-null   object \n",
      " 6   Processor_gen           1020 non-null   float64\n",
      " 7   Core_per_processor      1020 non-null   float64\n",
      " 8   Energy_Efficient_Units  1020 non-null   int64  \n",
      " 9   RAM_GB                  1020 non-null   int64  \n",
      " 10  RAM_type                1020 non-null   object \n",
      " 11  Storage_capacity_GB     1020 non-null   int64  \n",
      " 12  Storage_type            1020 non-null   object \n",
      " 13  Graphics_brand          1020 non-null   object \n",
      " 14  Display_size_inches     1020 non-null   float64\n",
      " 15  Horizontal_pixel        1020 non-null   int64  \n",
      " 16  Vertical_pixel          1020 non-null   int64  \n",
      " 17  Touch_screen            1020 non-null   bool   \n",
      " 18  Operating_system        1020 non-null   object \n",
      "dtypes: bool(1), float64(4), int64(7), object(7)\n",
      "memory usage: 144.6+ KB\n"
     ]
    }
   ],
   "source": [
    "data.info()"
   ]
  },
  {
   "cell_type": "markdown",
   "id": "bfbd376c-487c-4c0b-8974-8ffecc2ac4e6",
   "metadata": {},
   "source": [
    "## Encoded all columns into integer"
   ]
  },
  {
   "cell_type": "code",
   "execution_count": 160,
   "id": "a1faa5fc-ede4-4473-a83d-604fe34b5f81",
   "metadata": {},
   "outputs": [],
   "source": [
    "from sklearn.preprocessing import LabelEncoder\n",
    "le= LabelEncoder()"
   ]
  },
  {
   "cell_type": "code",
   "execution_count": 161,
   "id": "813547de-7026-4275-b069-0a0aed5378b0",
   "metadata": {},
   "outputs": [],
   "source": [
    "data[ ['Name', 'Brand', 'Processor_brand', 'RAM_type', 'Storage_type', 'Graphics_brand', 'Operating_system','Touch_screen']]=data[ ['Name', 'Brand', 'Processor_brand', 'RAM_type', 'Storage_type', 'Graphics_brand', 'Operating_system','Touch_screen']].apply(le.fit_transform)"
   ]
  },
  {
   "cell_type": "code",
   "execution_count": 162,
   "id": "5a5c21c7-8029-4ee2-8895-908b70d3d7cf",
   "metadata": {},
   "outputs": [
    {
     "name": "stdout",
     "output_type": "stream",
     "text": [
      "<class 'pandas.core.frame.DataFrame'>\n",
      "RangeIndex: 1020 entries, 0 to 1019\n",
      "Data columns (total 19 columns):\n",
      " #   Column                  Non-Null Count  Dtype  \n",
      "---  ------                  --------------  -----  \n",
      " 0   Unnamed: 0              1020 non-null   int64  \n",
      " 1   Name                    1020 non-null   int32  \n",
      " 2   Brand                   1020 non-null   int32  \n",
      " 3   Price                   1020 non-null   int64  \n",
      " 4   Rating                  1020 non-null   float64\n",
      " 5   Processor_brand         1020 non-null   int32  \n",
      " 6   Processor_gen           1020 non-null   float64\n",
      " 7   Core_per_processor      1020 non-null   float64\n",
      " 8   Energy_Efficient_Units  1020 non-null   int64  \n",
      " 9   RAM_GB                  1020 non-null   int64  \n",
      " 10  RAM_type                1020 non-null   int32  \n",
      " 11  Storage_capacity_GB     1020 non-null   int64  \n",
      " 12  Storage_type            1020 non-null   int32  \n",
      " 13  Graphics_brand          1020 non-null   int32  \n",
      " 14  Display_size_inches     1020 non-null   float64\n",
      " 15  Horizontal_pixel        1020 non-null   int64  \n",
      " 16  Vertical_pixel          1020 non-null   int64  \n",
      " 17  Touch_screen            1020 non-null   int64  \n",
      " 18  Operating_system        1020 non-null   int32  \n",
      "dtypes: float64(4), int32(7), int64(8)\n",
      "memory usage: 123.6 KB\n"
     ]
    }
   ],
   "source": [
    "data.info()"
   ]
  },
  {
   "cell_type": "markdown",
   "id": "a55730b1-2d27-4f4d-9d2c-633879acaf13",
   "metadata": {},
   "source": [
    "# Q9. When necessary, how can the data be scaled using appropriate scaling techniques?"
   ]
  },
  {
   "cell_type": "code",
   "execution_count": 163,
   "id": "7e2e1f75-9e5b-47f0-b369-23a31331ab43",
   "metadata": {},
   "outputs": [],
   "source": [
    "from sklearn.preprocessing import StandardScaler\n",
    "\n",
    "scaler = StandardScaler()\n",
    "scaled_features = ['RAM_GB', 'Storage_capacity_GB', 'Display_size_inches', 'Horizontal_pixel', 'Vertical_pixel']\n",
    "data[scaled_features] = scaler.fit_transform(data[scaled_features])\n"
   ]
  },
  {
   "cell_type": "code",
   "execution_count": 164,
   "id": "90a82c57-937d-4ee5-9121-eaf5abeefadd",
   "metadata": {},
   "outputs": [
    {
     "name": "stdout",
     "output_type": "stream",
     "text": [
      "<class 'pandas.core.frame.DataFrame'>\n",
      "RangeIndex: 1020 entries, 0 to 1019\n",
      "Data columns (total 19 columns):\n",
      " #   Column                  Non-Null Count  Dtype  \n",
      "---  ------                  --------------  -----  \n",
      " 0   Unnamed: 0              1020 non-null   int64  \n",
      " 1   Name                    1020 non-null   int32  \n",
      " 2   Brand                   1020 non-null   int32  \n",
      " 3   Price                   1020 non-null   int64  \n",
      " 4   Rating                  1020 non-null   float64\n",
      " 5   Processor_brand         1020 non-null   int32  \n",
      " 6   Processor_gen           1020 non-null   float64\n",
      " 7   Core_per_processor      1020 non-null   float64\n",
      " 8   Energy_Efficient_Units  1020 non-null   int64  \n",
      " 9   RAM_GB                  1020 non-null   float64\n",
      " 10  RAM_type                1020 non-null   int32  \n",
      " 11  Storage_capacity_GB     1020 non-null   float64\n",
      " 12  Storage_type            1020 non-null   int32  \n",
      " 13  Graphics_brand          1020 non-null   int32  \n",
      " 14  Display_size_inches     1020 non-null   float64\n",
      " 15  Horizontal_pixel        1020 non-null   float64\n",
      " 16  Vertical_pixel          1020 non-null   float64\n",
      " 17  Touch_screen            1020 non-null   int64  \n",
      " 18  Operating_system        1020 non-null   int32  \n",
      "dtypes: float64(8), int32(7), int64(4)\n",
      "memory usage: 123.6 KB\n"
     ]
    }
   ],
   "source": [
    "data.info()"
   ]
  },
  {
   "cell_type": "markdown",
   "id": "0851f28b-43ba-4f93-995d-b46baa543a17",
   "metadata": {},
   "source": [
    "## droping a column named unnamed: 0 because its not useful"
   ]
  },
  {
   "cell_type": "code",
   "execution_count": 165,
   "id": "7e3c633c-0b11-4352-978d-f2b3d836eee0",
   "metadata": {},
   "outputs": [],
   "source": [
    " data.drop(['Unnamed: 0'],axis=1,inplace=True)"
   ]
  },
  {
   "cell_type": "code",
   "execution_count": 166,
   "id": "d5e0cac3-db1f-45bf-ac3e-b47394f5cf7e",
   "metadata": {},
   "outputs": [
    {
     "name": "stdout",
     "output_type": "stream",
     "text": [
      "<class 'pandas.core.frame.DataFrame'>\n",
      "RangeIndex: 1020 entries, 0 to 1019\n",
      "Data columns (total 18 columns):\n",
      " #   Column                  Non-Null Count  Dtype  \n",
      "---  ------                  --------------  -----  \n",
      " 0   Name                    1020 non-null   int32  \n",
      " 1   Brand                   1020 non-null   int32  \n",
      " 2   Price                   1020 non-null   int64  \n",
      " 3   Rating                  1020 non-null   float64\n",
      " 4   Processor_brand         1020 non-null   int32  \n",
      " 5   Processor_gen           1020 non-null   float64\n",
      " 6   Core_per_processor      1020 non-null   float64\n",
      " 7   Energy_Efficient_Units  1020 non-null   int64  \n",
      " 8   RAM_GB                  1020 non-null   float64\n",
      " 9   RAM_type                1020 non-null   int32  \n",
      " 10  Storage_capacity_GB     1020 non-null   float64\n",
      " 11  Storage_type            1020 non-null   int32  \n",
      " 12  Graphics_brand          1020 non-null   int32  \n",
      " 13  Display_size_inches     1020 non-null   float64\n",
      " 14  Horizontal_pixel        1020 non-null   float64\n",
      " 15  Vertical_pixel          1020 non-null   float64\n",
      " 16  Touch_screen            1020 non-null   int64  \n",
      " 17  Operating_system        1020 non-null   int32  \n",
      "dtypes: float64(8), int32(7), int64(3)\n",
      "memory usage: 115.7 KB\n"
     ]
    }
   ],
   "source": [
    "data.info()"
   ]
  },
  {
   "cell_type": "code",
   "execution_count": 167,
   "id": "4ea924d7-ba15-4500-bd0d-65aae41b6560",
   "metadata": {},
   "outputs": [
    {
     "data": {
      "text/html": [
       "<div>\n",
       "<style scoped>\n",
       "    .dataframe tbody tr th:only-of-type {\n",
       "        vertical-align: middle;\n",
       "    }\n",
       "\n",
       "    .dataframe tbody tr th {\n",
       "        vertical-align: top;\n",
       "    }\n",
       "\n",
       "    .dataframe thead th {\n",
       "        text-align: right;\n",
       "    }\n",
       "</style>\n",
       "<table border=\"1\" class=\"dataframe\">\n",
       "  <thead>\n",
       "    <tr style=\"text-align: right;\">\n",
       "      <th></th>\n",
       "      <th>Name</th>\n",
       "      <th>Brand</th>\n",
       "      <th>Price</th>\n",
       "      <th>Rating</th>\n",
       "      <th>Processor_brand</th>\n",
       "      <th>Processor_gen</th>\n",
       "      <th>Core_per_processor</th>\n",
       "      <th>Energy_Efficient_Units</th>\n",
       "      <th>RAM_GB</th>\n",
       "      <th>RAM_type</th>\n",
       "      <th>Storage_capacity_GB</th>\n",
       "      <th>Storage_type</th>\n",
       "      <th>Graphics_brand</th>\n",
       "      <th>Display_size_inches</th>\n",
       "      <th>Horizontal_pixel</th>\n",
       "      <th>Vertical_pixel</th>\n",
       "      <th>Touch_screen</th>\n",
       "      <th>Operating_system</th>\n",
       "    </tr>\n",
       "  </thead>\n",
       "  <tbody>\n",
       "    <tr>\n",
       "      <th>0</th>\n",
       "      <td>580</td>\n",
       "      <td>11</td>\n",
       "      <td>50399</td>\n",
       "      <td>4.30</td>\n",
       "      <td>0</td>\n",
       "      <td>5.0</td>\n",
       "      <td>6.0</td>\n",
       "      <td>0</td>\n",
       "      <td>-0.833861</td>\n",
       "      <td>1</td>\n",
       "      <td>-0.365370</td>\n",
       "      <td>2</td>\n",
       "      <td>0</td>\n",
       "      <td>0.435770</td>\n",
       "      <td>-0.282421</td>\n",
       "      <td>-0.436955</td>\n",
       "      <td>1</td>\n",
       "      <td>11</td>\n",
       "    </tr>\n",
       "    <tr>\n",
       "      <th>1</th>\n",
       "      <td>837</td>\n",
       "      <td>17</td>\n",
       "      <td>26690</td>\n",
       "      <td>4.45</td>\n",
       "      <td>0</td>\n",
       "      <td>7.0</td>\n",
       "      <td>4.0</td>\n",
       "      <td>0</td>\n",
       "      <td>-0.833861</td>\n",
       "      <td>7</td>\n",
       "      <td>-0.365370</td>\n",
       "      <td>2</td>\n",
       "      <td>0</td>\n",
       "      <td>0.435770</td>\n",
       "      <td>-0.282421</td>\n",
       "      <td>-0.436955</td>\n",
       "      <td>0</td>\n",
       "      <td>11</td>\n",
       "    </tr>\n",
       "    <tr>\n",
       "      <th>2</th>\n",
       "      <td>426</td>\n",
       "      <td>11</td>\n",
       "      <td>37012</td>\n",
       "      <td>4.65</td>\n",
       "      <td>3</td>\n",
       "      <td>12.0</td>\n",
       "      <td>6.0</td>\n",
       "      <td>0</td>\n",
       "      <td>-0.833861</td>\n",
       "      <td>1</td>\n",
       "      <td>-0.365370</td>\n",
       "      <td>2</td>\n",
       "      <td>4</td>\n",
       "      <td>0.435770</td>\n",
       "      <td>-0.282421</td>\n",
       "      <td>-0.436955</td>\n",
       "      <td>0</td>\n",
       "      <td>11</td>\n",
       "    </tr>\n",
       "    <tr>\n",
       "      <th>3</th>\n",
       "      <td>992</td>\n",
       "      <td>23</td>\n",
       "      <td>69990</td>\n",
       "      <td>4.75</td>\n",
       "      <td>3</td>\n",
       "      <td>12.0</td>\n",
       "      <td>12.0</td>\n",
       "      <td>0</td>\n",
       "      <td>0.279409</td>\n",
       "      <td>7</td>\n",
       "      <td>-0.365370</td>\n",
       "      <td>2</td>\n",
       "      <td>4</td>\n",
       "      <td>-1.861828</td>\n",
       "      <td>-2.336168</td>\n",
       "      <td>2.301765</td>\n",
       "      <td>0</td>\n",
       "      <td>11</td>\n",
       "    </tr>\n",
       "    <tr>\n",
       "      <th>4</th>\n",
       "      <td>994</td>\n",
       "      <td>24</td>\n",
       "      <td>23990</td>\n",
       "      <td>4.25</td>\n",
       "      <td>3</td>\n",
       "      <td>11.0</td>\n",
       "      <td>2.0</td>\n",
       "      <td>0</td>\n",
       "      <td>-0.833861</td>\n",
       "      <td>5</td>\n",
       "      <td>-0.365370</td>\n",
       "      <td>2</td>\n",
       "      <td>4</td>\n",
       "      <td>0.435770</td>\n",
       "      <td>-0.282421</td>\n",
       "      <td>-0.436955</td>\n",
       "      <td>0</td>\n",
       "      <td>11</td>\n",
       "    </tr>\n",
       "    <tr>\n",
       "      <th>...</th>\n",
       "      <td>...</td>\n",
       "      <td>...</td>\n",
       "      <td>...</td>\n",
       "      <td>...</td>\n",
       "      <td>...</td>\n",
       "      <td>...</td>\n",
       "      <td>...</td>\n",
       "      <td>...</td>\n",
       "      <td>...</td>\n",
       "      <td>...</td>\n",
       "      <td>...</td>\n",
       "      <td>...</td>\n",
       "      <td>...</td>\n",
       "      <td>...</td>\n",
       "      <td>...</td>\n",
       "      <td>...</td>\n",
       "      <td>...</td>\n",
       "      <td>...</td>\n",
       "    </tr>\n",
       "    <tr>\n",
       "      <th>1015</th>\n",
       "      <td>864</td>\n",
       "      <td>18</td>\n",
       "      <td>247999</td>\n",
       "      <td>4.45</td>\n",
       "      <td>3</td>\n",
       "      <td>13.0</td>\n",
       "      <td>14.0</td>\n",
       "      <td>0</td>\n",
       "      <td>2.505948</td>\n",
       "      <td>2</td>\n",
       "      <td>1.175246</td>\n",
       "      <td>2</td>\n",
       "      <td>5</td>\n",
       "      <td>1.834308</td>\n",
       "      <td>1.282338</td>\n",
       "      <td>1.258443</td>\n",
       "      <td>0</td>\n",
       "      <td>11</td>\n",
       "    </tr>\n",
       "    <tr>\n",
       "      <th>1016</th>\n",
       "      <td>919</td>\n",
       "      <td>18</td>\n",
       "      <td>292990</td>\n",
       "      <td>4.20</td>\n",
       "      <td>3</td>\n",
       "      <td>13.0</td>\n",
       "      <td>14.0</td>\n",
       "      <td>0</td>\n",
       "      <td>2.505948</td>\n",
       "      <td>2</td>\n",
       "      <td>1.175246</td>\n",
       "      <td>2</td>\n",
       "      <td>5</td>\n",
       "      <td>0.835352</td>\n",
       "      <td>4.411856</td>\n",
       "      <td>3.866748</td>\n",
       "      <td>0</td>\n",
       "      <td>11</td>\n",
       "    </tr>\n",
       "    <tr>\n",
       "      <th>1017</th>\n",
       "      <td>573</td>\n",
       "      <td>11</td>\n",
       "      <td>58800</td>\n",
       "      <td>4.40</td>\n",
       "      <td>0</td>\n",
       "      <td>5.0</td>\n",
       "      <td>6.0</td>\n",
       "      <td>0</td>\n",
       "      <td>-0.833861</td>\n",
       "      <td>1</td>\n",
       "      <td>-0.365370</td>\n",
       "      <td>2</td>\n",
       "      <td>0</td>\n",
       "      <td>0.435770</td>\n",
       "      <td>-0.282421</td>\n",
       "      <td>-0.436955</td>\n",
       "      <td>0</td>\n",
       "      <td>11</td>\n",
       "    </tr>\n",
       "    <tr>\n",
       "      <th>1018</th>\n",
       "      <td>184</td>\n",
       "      <td>4</td>\n",
       "      <td>54999</td>\n",
       "      <td>4.25</td>\n",
       "      <td>0</td>\n",
       "      <td>7.0</td>\n",
       "      <td>6.0</td>\n",
       "      <td>0</td>\n",
       "      <td>-0.833861</td>\n",
       "      <td>1</td>\n",
       "      <td>-0.365370</td>\n",
       "      <td>2</td>\n",
       "      <td>0</td>\n",
       "      <td>0.835352</td>\n",
       "      <td>-0.282421</td>\n",
       "      <td>-0.045709</td>\n",
       "      <td>0</td>\n",
       "      <td>11</td>\n",
       "    </tr>\n",
       "    <tr>\n",
       "      <th>1019</th>\n",
       "      <td>348</td>\n",
       "      <td>8</td>\n",
       "      <td>94490</td>\n",
       "      <td>4.05</td>\n",
       "      <td>3</td>\n",
       "      <td>13.0</td>\n",
       "      <td>10.0</td>\n",
       "      <td>0</td>\n",
       "      <td>-0.833861</td>\n",
       "      <td>7</td>\n",
       "      <td>-0.365370</td>\n",
       "      <td>2</td>\n",
       "      <td>4</td>\n",
       "      <td>0.835352</td>\n",
       "      <td>-0.282421</td>\n",
       "      <td>-0.045709</td>\n",
       "      <td>1</td>\n",
       "      <td>11</td>\n",
       "    </tr>\n",
       "  </tbody>\n",
       "</table>\n",
       "<p>1020 rows × 18 columns</p>\n",
       "</div>"
      ],
      "text/plain": [
       "      Name  Brand   Price  Rating  Processor_brand  Processor_gen  \\\n",
       "0      580     11   50399    4.30                0            5.0   \n",
       "1      837     17   26690    4.45                0            7.0   \n",
       "2      426     11   37012    4.65                3           12.0   \n",
       "3      992     23   69990    4.75                3           12.0   \n",
       "4      994     24   23990    4.25                3           11.0   \n",
       "...    ...    ...     ...     ...              ...            ...   \n",
       "1015   864     18  247999    4.45                3           13.0   \n",
       "1016   919     18  292990    4.20                3           13.0   \n",
       "1017   573     11   58800    4.40                0            5.0   \n",
       "1018   184      4   54999    4.25                0            7.0   \n",
       "1019   348      8   94490    4.05                3           13.0   \n",
       "\n",
       "      Core_per_processor  Energy_Efficient_Units    RAM_GB  RAM_type  \\\n",
       "0                    6.0                       0 -0.833861         1   \n",
       "1                    4.0                       0 -0.833861         7   \n",
       "2                    6.0                       0 -0.833861         1   \n",
       "3                   12.0                       0  0.279409         7   \n",
       "4                    2.0                       0 -0.833861         5   \n",
       "...                  ...                     ...       ...       ...   \n",
       "1015                14.0                       0  2.505948         2   \n",
       "1016                14.0                       0  2.505948         2   \n",
       "1017                 6.0                       0 -0.833861         1   \n",
       "1018                 6.0                       0 -0.833861         1   \n",
       "1019                10.0                       0 -0.833861         7   \n",
       "\n",
       "      Storage_capacity_GB  Storage_type  Graphics_brand  Display_size_inches  \\\n",
       "0               -0.365370             2               0             0.435770   \n",
       "1               -0.365370             2               0             0.435770   \n",
       "2               -0.365370             2               4             0.435770   \n",
       "3               -0.365370             2               4            -1.861828   \n",
       "4               -0.365370             2               4             0.435770   \n",
       "...                   ...           ...             ...                  ...   \n",
       "1015             1.175246             2               5             1.834308   \n",
       "1016             1.175246             2               5             0.835352   \n",
       "1017            -0.365370             2               0             0.435770   \n",
       "1018            -0.365370             2               0             0.835352   \n",
       "1019            -0.365370             2               4             0.835352   \n",
       "\n",
       "      Horizontal_pixel  Vertical_pixel  Touch_screen  Operating_system  \n",
       "0            -0.282421       -0.436955             1                11  \n",
       "1            -0.282421       -0.436955             0                11  \n",
       "2            -0.282421       -0.436955             0                11  \n",
       "3            -2.336168        2.301765             0                11  \n",
       "4            -0.282421       -0.436955             0                11  \n",
       "...                ...             ...           ...               ...  \n",
       "1015          1.282338        1.258443             0                11  \n",
       "1016          4.411856        3.866748             0                11  \n",
       "1017         -0.282421       -0.436955             0                11  \n",
       "1018         -0.282421       -0.045709             0                11  \n",
       "1019         -0.282421       -0.045709             1                11  \n",
       "\n",
       "[1020 rows x 18 columns]"
      ]
     },
     "execution_count": 167,
     "metadata": {},
     "output_type": "execute_result"
    }
   ],
   "source": [
    "data"
   ]
  },
  {
   "cell_type": "markdown",
   "id": "e6edceaf-e80f-4ead-8742-181c378b0743",
   "metadata": {},
   "source": [
    "# Q10 How can the dataset be divided into predictors and target variables?"
   ]
  },
  {
   "cell_type": "code",
   "execution_count": 168,
   "id": "a8172e34-18d2-4ee1-b5c4-fb115956210d",
   "metadata": {},
   "outputs": [],
   "source": [
    "x=data.drop(columns=['Price'],axis=1) #Predictors"
   ]
  },
  {
   "cell_type": "code",
   "execution_count": 169,
   "id": "f495dfdc-6d48-4658-bbe4-a227634e872d",
   "metadata": {},
   "outputs": [],
   "source": [
    "y=data['Price'] # Target"
   ]
  },
  {
   "cell_type": "markdown",
   "id": "6a8e9a46-676d-4f1e-add8-dfc767dc4086",
   "metadata": {},
   "source": [
    "# Q11. What is the recommended approach for dividing the dataset into training and testing sets??"
   ]
  },
  {
   "cell_type": "markdown",
   "id": "36fe4e8e-bffd-4edb-811f-4259ce8b6dab",
   "metadata": {},
   "source": [
    "### Dividing the dataset into training and testing sets"
   ]
  },
  {
   "cell_type": "code",
   "execution_count": 170,
   "id": "f73d7303-a535-419c-8ba9-c19d83b98127",
   "metadata": {},
   "outputs": [],
   "source": [
    "from sklearn.linear_model import LinearRegression"
   ]
  },
  {
   "cell_type": "code",
   "execution_count": 171,
   "id": "16410f1d-d143-4f03-871b-bcbc9531b5ae",
   "metadata": {},
   "outputs": [],
   "source": [
    "reg=LinearRegression()"
   ]
  },
  {
   "cell_type": "code",
   "execution_count": 172,
   "id": "00f6a8a3-ca3f-482a-9903-14dbb75505c7",
   "metadata": {},
   "outputs": [],
   "source": [
    "from sklearn.model_selection import train_test_split\n",
    "x_train, x_test, y_train, y_test = train_test_split(x, y, test_size = 0.2, random_state = 42)"
   ]
  },
  {
   "cell_type": "code",
   "execution_count": 173,
   "id": "dbb9abae-1c3b-48a7-a377-e52d9c83f583",
   "metadata": {},
   "outputs": [
    {
     "data": {
      "text/html": [
       "<style>#sk-container-id-7 {color: black;background-color: white;}#sk-container-id-7 pre{padding: 0;}#sk-container-id-7 div.sk-toggleable {background-color: white;}#sk-container-id-7 label.sk-toggleable__label {cursor: pointer;display: block;width: 100%;margin-bottom: 0;padding: 0.3em;box-sizing: border-box;text-align: center;}#sk-container-id-7 label.sk-toggleable__label-arrow:before {content: \"▸\";float: left;margin-right: 0.25em;color: #696969;}#sk-container-id-7 label.sk-toggleable__label-arrow:hover:before {color: black;}#sk-container-id-7 div.sk-estimator:hover label.sk-toggleable__label-arrow:before {color: black;}#sk-container-id-7 div.sk-toggleable__content {max-height: 0;max-width: 0;overflow: hidden;text-align: left;background-color: #f0f8ff;}#sk-container-id-7 div.sk-toggleable__content pre {margin: 0.2em;color: black;border-radius: 0.25em;background-color: #f0f8ff;}#sk-container-id-7 input.sk-toggleable__control:checked~div.sk-toggleable__content {max-height: 200px;max-width: 100%;overflow: auto;}#sk-container-id-7 input.sk-toggleable__control:checked~label.sk-toggleable__label-arrow:before {content: \"▾\";}#sk-container-id-7 div.sk-estimator input.sk-toggleable__control:checked~label.sk-toggleable__label {background-color: #d4ebff;}#sk-container-id-7 div.sk-label input.sk-toggleable__control:checked~label.sk-toggleable__label {background-color: #d4ebff;}#sk-container-id-7 input.sk-hidden--visually {border: 0;clip: rect(1px 1px 1px 1px);clip: rect(1px, 1px, 1px, 1px);height: 1px;margin: -1px;overflow: hidden;padding: 0;position: absolute;width: 1px;}#sk-container-id-7 div.sk-estimator {font-family: monospace;background-color: #f0f8ff;border: 1px dotted black;border-radius: 0.25em;box-sizing: border-box;margin-bottom: 0.5em;}#sk-container-id-7 div.sk-estimator:hover {background-color: #d4ebff;}#sk-container-id-7 div.sk-parallel-item::after {content: \"\";width: 100%;border-bottom: 1px solid gray;flex-grow: 1;}#sk-container-id-7 div.sk-label:hover label.sk-toggleable__label {background-color: #d4ebff;}#sk-container-id-7 div.sk-serial::before {content: \"\";position: absolute;border-left: 1px solid gray;box-sizing: border-box;top: 0;bottom: 0;left: 50%;z-index: 0;}#sk-container-id-7 div.sk-serial {display: flex;flex-direction: column;align-items: center;background-color: white;padding-right: 0.2em;padding-left: 0.2em;position: relative;}#sk-container-id-7 div.sk-item {position: relative;z-index: 1;}#sk-container-id-7 div.sk-parallel {display: flex;align-items: stretch;justify-content: center;background-color: white;position: relative;}#sk-container-id-7 div.sk-item::before, #sk-container-id-7 div.sk-parallel-item::before {content: \"\";position: absolute;border-left: 1px solid gray;box-sizing: border-box;top: 0;bottom: 0;left: 50%;z-index: -1;}#sk-container-id-7 div.sk-parallel-item {display: flex;flex-direction: column;z-index: 1;position: relative;background-color: white;}#sk-container-id-7 div.sk-parallel-item:first-child::after {align-self: flex-end;width: 50%;}#sk-container-id-7 div.sk-parallel-item:last-child::after {align-self: flex-start;width: 50%;}#sk-container-id-7 div.sk-parallel-item:only-child::after {width: 0;}#sk-container-id-7 div.sk-dashed-wrapped {border: 1px dashed gray;margin: 0 0.4em 0.5em 0.4em;box-sizing: border-box;padding-bottom: 0.4em;background-color: white;}#sk-container-id-7 div.sk-label label {font-family: monospace;font-weight: bold;display: inline-block;line-height: 1.2em;}#sk-container-id-7 div.sk-label-container {text-align: center;}#sk-container-id-7 div.sk-container {/* jupyter's `normalize.less` sets `[hidden] { display: none; }` but bootstrap.min.css set `[hidden] { display: none !important; }` so we also need the `!important` here to be able to override the default hidden behavior on the sphinx rendered scikit-learn.org. See: https://github.com/scikit-learn/scikit-learn/issues/21755 */display: inline-block !important;position: relative;}#sk-container-id-7 div.sk-text-repr-fallback {display: none;}</style><div id=\"sk-container-id-7\" class=\"sk-top-container\"><div class=\"sk-text-repr-fallback\"><pre>LinearRegression()</pre><b>In a Jupyter environment, please rerun this cell to show the HTML representation or trust the notebook. <br />On GitHub, the HTML representation is unable to render, please try loading this page with nbviewer.org.</b></div><div class=\"sk-container\" hidden><div class=\"sk-item\"><div class=\"sk-estimator sk-toggleable\"><input class=\"sk-toggleable__control sk-hidden--visually\" id=\"sk-estimator-id-13\" type=\"checkbox\" checked><label for=\"sk-estimator-id-13\" class=\"sk-toggleable__label sk-toggleable__label-arrow\">LinearRegression</label><div class=\"sk-toggleable__content\"><pre>LinearRegression()</pre></div></div></div></div></div>"
      ],
      "text/plain": [
       "LinearRegression()"
      ]
     },
     "execution_count": 173,
     "metadata": {},
     "output_type": "execute_result"
    }
   ],
   "source": [
    "reg.fit(x_train,y_train)"
   ]
  },
  {
   "cell_type": "code",
   "execution_count": 174,
   "id": "ff3a354e-d3a4-440c-8442-a607565184b8",
   "metadata": {},
   "outputs": [
    {
     "data": {
      "text/plain": [
       "0.7782108763737158"
      ]
     },
     "execution_count": 174,
     "metadata": {},
     "output_type": "execute_result"
    }
   ],
   "source": [
    "reg.score(x_train,y_train)"
   ]
  },
  {
   "cell_type": "code",
   "execution_count": 175,
   "id": "28e39c7d-ff16-40d6-9b7a-79da571da5e6",
   "metadata": {},
   "outputs": [
    {
     "data": {
      "text/plain": [
       "0.783346736993844"
      ]
     },
     "execution_count": 175,
     "metadata": {},
     "output_type": "execute_result"
    }
   ],
   "source": [
    "reg.score(x_test,y_test)"
   ]
  },
  {
   "cell_type": "code",
   "execution_count": 176,
   "id": "1858d9b0-f774-4716-844e-c6137d5a6c42",
   "metadata": {},
   "outputs": [
    {
     "data": {
      "text/html": [
       "<div>\n",
       "<style scoped>\n",
       "    .dataframe tbody tr th:only-of-type {\n",
       "        vertical-align: middle;\n",
       "    }\n",
       "\n",
       "    .dataframe tbody tr th {\n",
       "        vertical-align: top;\n",
       "    }\n",
       "\n",
       "    .dataframe thead th {\n",
       "        text-align: right;\n",
       "    }\n",
       "</style>\n",
       "<table border=\"1\" class=\"dataframe\">\n",
       "  <thead>\n",
       "    <tr style=\"text-align: right;\">\n",
       "      <th></th>\n",
       "      <th>Name</th>\n",
       "      <th>Brand</th>\n",
       "      <th>Price</th>\n",
       "      <th>Rating</th>\n",
       "      <th>Processor_brand</th>\n",
       "      <th>Processor_gen</th>\n",
       "      <th>Core_per_processor</th>\n",
       "      <th>Energy_Efficient_Units</th>\n",
       "      <th>RAM_GB</th>\n",
       "      <th>RAM_type</th>\n",
       "      <th>Storage_capacity_GB</th>\n",
       "      <th>Storage_type</th>\n",
       "      <th>Graphics_brand</th>\n",
       "      <th>Display_size_inches</th>\n",
       "      <th>Horizontal_pixel</th>\n",
       "      <th>Vertical_pixel</th>\n",
       "      <th>Touch_screen</th>\n",
       "      <th>Operating_system</th>\n",
       "    </tr>\n",
       "  </thead>\n",
       "  <tbody>\n",
       "    <tr>\n",
       "      <th>0</th>\n",
       "      <td>580</td>\n",
       "      <td>11</td>\n",
       "      <td>50399</td>\n",
       "      <td>4.30</td>\n",
       "      <td>0</td>\n",
       "      <td>5.0</td>\n",
       "      <td>6.0</td>\n",
       "      <td>0</td>\n",
       "      <td>-0.833861</td>\n",
       "      <td>1</td>\n",
       "      <td>-0.365370</td>\n",
       "      <td>2</td>\n",
       "      <td>0</td>\n",
       "      <td>0.435770</td>\n",
       "      <td>-0.282421</td>\n",
       "      <td>-0.436955</td>\n",
       "      <td>1</td>\n",
       "      <td>11</td>\n",
       "    </tr>\n",
       "    <tr>\n",
       "      <th>1</th>\n",
       "      <td>837</td>\n",
       "      <td>17</td>\n",
       "      <td>26690</td>\n",
       "      <td>4.45</td>\n",
       "      <td>0</td>\n",
       "      <td>7.0</td>\n",
       "      <td>4.0</td>\n",
       "      <td>0</td>\n",
       "      <td>-0.833861</td>\n",
       "      <td>7</td>\n",
       "      <td>-0.365370</td>\n",
       "      <td>2</td>\n",
       "      <td>0</td>\n",
       "      <td>0.435770</td>\n",
       "      <td>-0.282421</td>\n",
       "      <td>-0.436955</td>\n",
       "      <td>0</td>\n",
       "      <td>11</td>\n",
       "    </tr>\n",
       "    <tr>\n",
       "      <th>2</th>\n",
       "      <td>426</td>\n",
       "      <td>11</td>\n",
       "      <td>37012</td>\n",
       "      <td>4.65</td>\n",
       "      <td>3</td>\n",
       "      <td>12.0</td>\n",
       "      <td>6.0</td>\n",
       "      <td>0</td>\n",
       "      <td>-0.833861</td>\n",
       "      <td>1</td>\n",
       "      <td>-0.365370</td>\n",
       "      <td>2</td>\n",
       "      <td>4</td>\n",
       "      <td>0.435770</td>\n",
       "      <td>-0.282421</td>\n",
       "      <td>-0.436955</td>\n",
       "      <td>0</td>\n",
       "      <td>11</td>\n",
       "    </tr>\n",
       "    <tr>\n",
       "      <th>3</th>\n",
       "      <td>992</td>\n",
       "      <td>23</td>\n",
       "      <td>69990</td>\n",
       "      <td>4.75</td>\n",
       "      <td>3</td>\n",
       "      <td>12.0</td>\n",
       "      <td>12.0</td>\n",
       "      <td>0</td>\n",
       "      <td>0.279409</td>\n",
       "      <td>7</td>\n",
       "      <td>-0.365370</td>\n",
       "      <td>2</td>\n",
       "      <td>4</td>\n",
       "      <td>-1.861828</td>\n",
       "      <td>-2.336168</td>\n",
       "      <td>2.301765</td>\n",
       "      <td>0</td>\n",
       "      <td>11</td>\n",
       "    </tr>\n",
       "    <tr>\n",
       "      <th>4</th>\n",
       "      <td>994</td>\n",
       "      <td>24</td>\n",
       "      <td>23990</td>\n",
       "      <td>4.25</td>\n",
       "      <td>3</td>\n",
       "      <td>11.0</td>\n",
       "      <td>2.0</td>\n",
       "      <td>0</td>\n",
       "      <td>-0.833861</td>\n",
       "      <td>5</td>\n",
       "      <td>-0.365370</td>\n",
       "      <td>2</td>\n",
       "      <td>4</td>\n",
       "      <td>0.435770</td>\n",
       "      <td>-0.282421</td>\n",
       "      <td>-0.436955</td>\n",
       "      <td>0</td>\n",
       "      <td>11</td>\n",
       "    </tr>\n",
       "    <tr>\n",
       "      <th>...</th>\n",
       "      <td>...</td>\n",
       "      <td>...</td>\n",
       "      <td>...</td>\n",
       "      <td>...</td>\n",
       "      <td>...</td>\n",
       "      <td>...</td>\n",
       "      <td>...</td>\n",
       "      <td>...</td>\n",
       "      <td>...</td>\n",
       "      <td>...</td>\n",
       "      <td>...</td>\n",
       "      <td>...</td>\n",
       "      <td>...</td>\n",
       "      <td>...</td>\n",
       "      <td>...</td>\n",
       "      <td>...</td>\n",
       "      <td>...</td>\n",
       "      <td>...</td>\n",
       "    </tr>\n",
       "    <tr>\n",
       "      <th>1015</th>\n",
       "      <td>864</td>\n",
       "      <td>18</td>\n",
       "      <td>247999</td>\n",
       "      <td>4.45</td>\n",
       "      <td>3</td>\n",
       "      <td>13.0</td>\n",
       "      <td>14.0</td>\n",
       "      <td>0</td>\n",
       "      <td>2.505948</td>\n",
       "      <td>2</td>\n",
       "      <td>1.175246</td>\n",
       "      <td>2</td>\n",
       "      <td>5</td>\n",
       "      <td>1.834308</td>\n",
       "      <td>1.282338</td>\n",
       "      <td>1.258443</td>\n",
       "      <td>0</td>\n",
       "      <td>11</td>\n",
       "    </tr>\n",
       "    <tr>\n",
       "      <th>1016</th>\n",
       "      <td>919</td>\n",
       "      <td>18</td>\n",
       "      <td>292990</td>\n",
       "      <td>4.20</td>\n",
       "      <td>3</td>\n",
       "      <td>13.0</td>\n",
       "      <td>14.0</td>\n",
       "      <td>0</td>\n",
       "      <td>2.505948</td>\n",
       "      <td>2</td>\n",
       "      <td>1.175246</td>\n",
       "      <td>2</td>\n",
       "      <td>5</td>\n",
       "      <td>0.835352</td>\n",
       "      <td>4.411856</td>\n",
       "      <td>3.866748</td>\n",
       "      <td>0</td>\n",
       "      <td>11</td>\n",
       "    </tr>\n",
       "    <tr>\n",
       "      <th>1017</th>\n",
       "      <td>573</td>\n",
       "      <td>11</td>\n",
       "      <td>58800</td>\n",
       "      <td>4.40</td>\n",
       "      <td>0</td>\n",
       "      <td>5.0</td>\n",
       "      <td>6.0</td>\n",
       "      <td>0</td>\n",
       "      <td>-0.833861</td>\n",
       "      <td>1</td>\n",
       "      <td>-0.365370</td>\n",
       "      <td>2</td>\n",
       "      <td>0</td>\n",
       "      <td>0.435770</td>\n",
       "      <td>-0.282421</td>\n",
       "      <td>-0.436955</td>\n",
       "      <td>0</td>\n",
       "      <td>11</td>\n",
       "    </tr>\n",
       "    <tr>\n",
       "      <th>1018</th>\n",
       "      <td>184</td>\n",
       "      <td>4</td>\n",
       "      <td>54999</td>\n",
       "      <td>4.25</td>\n",
       "      <td>0</td>\n",
       "      <td>7.0</td>\n",
       "      <td>6.0</td>\n",
       "      <td>0</td>\n",
       "      <td>-0.833861</td>\n",
       "      <td>1</td>\n",
       "      <td>-0.365370</td>\n",
       "      <td>2</td>\n",
       "      <td>0</td>\n",
       "      <td>0.835352</td>\n",
       "      <td>-0.282421</td>\n",
       "      <td>-0.045709</td>\n",
       "      <td>0</td>\n",
       "      <td>11</td>\n",
       "    </tr>\n",
       "    <tr>\n",
       "      <th>1019</th>\n",
       "      <td>348</td>\n",
       "      <td>8</td>\n",
       "      <td>94490</td>\n",
       "      <td>4.05</td>\n",
       "      <td>3</td>\n",
       "      <td>13.0</td>\n",
       "      <td>10.0</td>\n",
       "      <td>0</td>\n",
       "      <td>-0.833861</td>\n",
       "      <td>7</td>\n",
       "      <td>-0.365370</td>\n",
       "      <td>2</td>\n",
       "      <td>4</td>\n",
       "      <td>0.835352</td>\n",
       "      <td>-0.282421</td>\n",
       "      <td>-0.045709</td>\n",
       "      <td>1</td>\n",
       "      <td>11</td>\n",
       "    </tr>\n",
       "  </tbody>\n",
       "</table>\n",
       "<p>1020 rows × 18 columns</p>\n",
       "</div>"
      ],
      "text/plain": [
       "      Name  Brand   Price  Rating  Processor_brand  Processor_gen  \\\n",
       "0      580     11   50399    4.30                0            5.0   \n",
       "1      837     17   26690    4.45                0            7.0   \n",
       "2      426     11   37012    4.65                3           12.0   \n",
       "3      992     23   69990    4.75                3           12.0   \n",
       "4      994     24   23990    4.25                3           11.0   \n",
       "...    ...    ...     ...     ...              ...            ...   \n",
       "1015   864     18  247999    4.45                3           13.0   \n",
       "1016   919     18  292990    4.20                3           13.0   \n",
       "1017   573     11   58800    4.40                0            5.0   \n",
       "1018   184      4   54999    4.25                0            7.0   \n",
       "1019   348      8   94490    4.05                3           13.0   \n",
       "\n",
       "      Core_per_processor  Energy_Efficient_Units    RAM_GB  RAM_type  \\\n",
       "0                    6.0                       0 -0.833861         1   \n",
       "1                    4.0                       0 -0.833861         7   \n",
       "2                    6.0                       0 -0.833861         1   \n",
       "3                   12.0                       0  0.279409         7   \n",
       "4                    2.0                       0 -0.833861         5   \n",
       "...                  ...                     ...       ...       ...   \n",
       "1015                14.0                       0  2.505948         2   \n",
       "1016                14.0                       0  2.505948         2   \n",
       "1017                 6.0                       0 -0.833861         1   \n",
       "1018                 6.0                       0 -0.833861         1   \n",
       "1019                10.0                       0 -0.833861         7   \n",
       "\n",
       "      Storage_capacity_GB  Storage_type  Graphics_brand  Display_size_inches  \\\n",
       "0               -0.365370             2               0             0.435770   \n",
       "1               -0.365370             2               0             0.435770   \n",
       "2               -0.365370             2               4             0.435770   \n",
       "3               -0.365370             2               4            -1.861828   \n",
       "4               -0.365370             2               4             0.435770   \n",
       "...                   ...           ...             ...                  ...   \n",
       "1015             1.175246             2               5             1.834308   \n",
       "1016             1.175246             2               5             0.835352   \n",
       "1017            -0.365370             2               0             0.435770   \n",
       "1018            -0.365370             2               0             0.835352   \n",
       "1019            -0.365370             2               4             0.835352   \n",
       "\n",
       "      Horizontal_pixel  Vertical_pixel  Touch_screen  Operating_system  \n",
       "0            -0.282421       -0.436955             1                11  \n",
       "1            -0.282421       -0.436955             0                11  \n",
       "2            -0.282421       -0.436955             0                11  \n",
       "3            -2.336168        2.301765             0                11  \n",
       "4            -0.282421       -0.436955             0                11  \n",
       "...                ...             ...           ...               ...  \n",
       "1015          1.282338        1.258443             0                11  \n",
       "1016          4.411856        3.866748             0                11  \n",
       "1017         -0.282421       -0.436955             0                11  \n",
       "1018         -0.282421       -0.045709             0                11  \n",
       "1019         -0.282421       -0.045709             1                11  \n",
       "\n",
       "[1020 rows x 18 columns]"
      ]
     },
     "execution_count": 176,
     "metadata": {},
     "output_type": "execute_result"
    }
   ],
   "source": [
    "data"
   ]
  },
  {
   "cell_type": "markdown",
   "id": "7e935947-0091-47d7-a13d-946507111b7f",
   "metadata": {},
   "source": [
    "# Q12. Which machine learning model is most suitable for training the data, considering its characteristics?"
   ]
  },
  {
   "cell_type": "markdown",
   "id": "d2e8560d-fb14-4397-8849-a7dbbf1f208e",
   "metadata": {},
   "source": [
    "## we use Random Forest Regressor model "
   ]
  },
  {
   "cell_type": "code",
   "execution_count": 177,
   "id": "16452431-211a-4ddf-af2f-37dc223fb733",
   "metadata": {},
   "outputs": [],
   "source": [
    "from sklearn.model_selection import cross_val_score , KFold"
   ]
  },
  {
   "cell_type": "code",
   "execution_count": 178,
   "id": "92322824-684b-4d0b-aaf8-a1312b9e0d80",
   "metadata": {},
   "outputs": [],
   "source": [
    "from sklearn.ensemble import RandomForestRegressor\n",
    "from sklearn.linear_model import LinearRegression\n",
    "from sklearn.tree import DecisionTreeRegressor\n",
    "from sklearn.svm import SVR"
   ]
  },
  {
   "cell_type": "code",
   "execution_count": 179,
   "id": "9f808f47-13be-4207-b2c1-5e5e3761116f",
   "metadata": {},
   "outputs": [],
   "source": [
    "lis=[LinearRegression,RandomForestRegressor,SVR,DecisionTreeRegressor]"
   ]
  },
  {
   "cell_type": "code",
   "execution_count": 180,
   "id": "00a43677-f445-444f-a2ea-633ecd753047",
   "metadata": {},
   "outputs": [
    {
     "data": {
      "text/plain": [
       "0.7890258027586114"
      ]
     },
     "execution_count": 180,
     "metadata": {},
     "output_type": "execute_result"
    }
   ],
   "source": [
    "cross_val_score(RandomForestRegressor(),x,y,cv=KFold(4)).mean()"
   ]
  },
  {
   "cell_type": "code",
   "execution_count": 181,
   "id": "e96497af-a6e2-4d50-ba29-30b6d0fe27e0",
   "metadata": {},
   "outputs": [
    {
     "name": "stdout",
     "output_type": "stream",
     "text": [
      "<class 'sklearn.linear_model._base.LinearRegression'>\n",
      "0.7495664979515959\n",
      "<class 'sklearn.ensemble._forest.RandomForestRegressor'>\n",
      "0.7834788619628507\n",
      "<class 'sklearn.svm._classes.SVR'>\n",
      "-0.0763667621735829\n",
      "<class 'sklearn.tree._classes.DecisionTreeRegressor'>\n",
      "0.6753305964854048\n"
     ]
    }
   ],
   "source": [
    "for i in lis:\n",
    "    model=i()\n",
    "    print(i)\n",
    "    print(cross_val_score(model,x,y,cv=KFold(4)).mean())"
   ]
  },
  {
   "cell_type": "markdown",
   "id": "7eef0aef-8b42-4eac-8cc6-55a608d30802",
   "metadata": {},
   "source": [
    "# Q13. How can the accuracy of the trained model be evaluated to determine its effectiveness?"
   ]
  },
  {
   "cell_type": "markdown",
   "id": "441c97d9-33c8-4985-b7c3-3b09664a2043",
   "metadata": {},
   "source": [
    "# Applying RandomForestRegressor Model"
   ]
  },
  {
   "cell_type": "code",
   "execution_count": 182,
   "id": "0f6cc900-a796-4113-8721-94fa4868921c",
   "metadata": {},
   "outputs": [],
   "source": [
    "Model=RandomForestRegressor()"
   ]
  },
  {
   "cell_type": "code",
   "execution_count": 183,
   "id": "9b36fe10-f549-4908-8ce3-34ec6eeedbe1",
   "metadata": {},
   "outputs": [
    {
     "data": {
      "text/plain": [
       "0.973961550134067"
      ]
     },
     "execution_count": 183,
     "metadata": {},
     "output_type": "execute_result"
    }
   ],
   "source": [
    "Model.fit(x_train,y_train)\n",
    "Model.score(x_train,y_train)"
   ]
  },
  {
   "cell_type": "code",
   "execution_count": 184,
   "id": "1202ea74-98d8-4682-84f4-79a062bca444",
   "metadata": {
    "scrolled": true
   },
   "outputs": [
    {
     "data": {
      "text/plain": [
       "0.8153750556865181"
      ]
     },
     "execution_count": 184,
     "metadata": {},
     "output_type": "execute_result"
    }
   ],
   "source": [
    "Model.score(x_test,y_test)"
   ]
  },
  {
   "cell_type": "markdown",
   "id": "1a83f4c6-8dae-473c-9f99-a205e67283c9",
   "metadata": {},
   "source": [
    "# Q14. Proper approach to enhance the model by certain techniques must be done?"
   ]
  },
  {
   "cell_type": "markdown",
   "id": "f195da96-6114-4e31-be80-9b4a82ba36ea",
   "metadata": {},
   "source": [
    "## we can use hyper-parametering to enhance RandomForestRegressor Model score"
   ]
  },
  {
   "cell_type": "code",
   "execution_count": 185,
   "id": "28ca14f6-eebe-4975-b569-9556b5a49f24",
   "metadata": {},
   "outputs": [],
   "source": [
    "from sklearn.model_selection import RandomizedSearchCV"
   ]
  },
  {
   "cell_type": "code",
   "execution_count": 186,
   "id": "08c57eaa-c71f-4c92-9181-f121fe2c82a2",
   "metadata": {},
   "outputs": [],
   "source": [
    "import warnings\n",
    "warnings.filterwarnings(\"ignore\")"
   ]
  },
  {
   "cell_type": "code",
   "execution_count": 187,
   "id": "4c87b77c-4b38-4330-a694-44ba9eae92c5",
   "metadata": {},
   "outputs": [],
   "source": [
    "parameters={\"n_estimators\":[100,200,300,400],\n",
    "            \"max_features\":['auto', 'sqrt','log2'],\n",
    "            \"max_depth\":[2,3,4],\n",
    "            \"random_state\":[20,30,40,50]}"
   ]
  },
  {
   "cell_type": "code",
   "execution_count": 188,
   "id": "d51415fb-e83d-41a9-950a-ccf9c542fe0b",
   "metadata": {},
   "outputs": [],
   "source": [
    "grid=RandomizedSearchCV(Model,param_distributions=parameters,n_iter=50,cv=KFold(4))"
   ]
  },
  {
   "cell_type": "code",
   "execution_count": 189,
   "id": "5f76d663-6f03-4a06-9c3a-d3d80cb4ca60",
   "metadata": {},
   "outputs": [
    {
     "data": {
      "text/html": [
       "<style>#sk-container-id-8 {color: black;background-color: white;}#sk-container-id-8 pre{padding: 0;}#sk-container-id-8 div.sk-toggleable {background-color: white;}#sk-container-id-8 label.sk-toggleable__label {cursor: pointer;display: block;width: 100%;margin-bottom: 0;padding: 0.3em;box-sizing: border-box;text-align: center;}#sk-container-id-8 label.sk-toggleable__label-arrow:before {content: \"▸\";float: left;margin-right: 0.25em;color: #696969;}#sk-container-id-8 label.sk-toggleable__label-arrow:hover:before {color: black;}#sk-container-id-8 div.sk-estimator:hover label.sk-toggleable__label-arrow:before {color: black;}#sk-container-id-8 div.sk-toggleable__content {max-height: 0;max-width: 0;overflow: hidden;text-align: left;background-color: #f0f8ff;}#sk-container-id-8 div.sk-toggleable__content pre {margin: 0.2em;color: black;border-radius: 0.25em;background-color: #f0f8ff;}#sk-container-id-8 input.sk-toggleable__control:checked~div.sk-toggleable__content {max-height: 200px;max-width: 100%;overflow: auto;}#sk-container-id-8 input.sk-toggleable__control:checked~label.sk-toggleable__label-arrow:before {content: \"▾\";}#sk-container-id-8 div.sk-estimator input.sk-toggleable__control:checked~label.sk-toggleable__label {background-color: #d4ebff;}#sk-container-id-8 div.sk-label input.sk-toggleable__control:checked~label.sk-toggleable__label {background-color: #d4ebff;}#sk-container-id-8 input.sk-hidden--visually {border: 0;clip: rect(1px 1px 1px 1px);clip: rect(1px, 1px, 1px, 1px);height: 1px;margin: -1px;overflow: hidden;padding: 0;position: absolute;width: 1px;}#sk-container-id-8 div.sk-estimator {font-family: monospace;background-color: #f0f8ff;border: 1px dotted black;border-radius: 0.25em;box-sizing: border-box;margin-bottom: 0.5em;}#sk-container-id-8 div.sk-estimator:hover {background-color: #d4ebff;}#sk-container-id-8 div.sk-parallel-item::after {content: \"\";width: 100%;border-bottom: 1px solid gray;flex-grow: 1;}#sk-container-id-8 div.sk-label:hover label.sk-toggleable__label {background-color: #d4ebff;}#sk-container-id-8 div.sk-serial::before {content: \"\";position: absolute;border-left: 1px solid gray;box-sizing: border-box;top: 0;bottom: 0;left: 50%;z-index: 0;}#sk-container-id-8 div.sk-serial {display: flex;flex-direction: column;align-items: center;background-color: white;padding-right: 0.2em;padding-left: 0.2em;position: relative;}#sk-container-id-8 div.sk-item {position: relative;z-index: 1;}#sk-container-id-8 div.sk-parallel {display: flex;align-items: stretch;justify-content: center;background-color: white;position: relative;}#sk-container-id-8 div.sk-item::before, #sk-container-id-8 div.sk-parallel-item::before {content: \"\";position: absolute;border-left: 1px solid gray;box-sizing: border-box;top: 0;bottom: 0;left: 50%;z-index: -1;}#sk-container-id-8 div.sk-parallel-item {display: flex;flex-direction: column;z-index: 1;position: relative;background-color: white;}#sk-container-id-8 div.sk-parallel-item:first-child::after {align-self: flex-end;width: 50%;}#sk-container-id-8 div.sk-parallel-item:last-child::after {align-self: flex-start;width: 50%;}#sk-container-id-8 div.sk-parallel-item:only-child::after {width: 0;}#sk-container-id-8 div.sk-dashed-wrapped {border: 1px dashed gray;margin: 0 0.4em 0.5em 0.4em;box-sizing: border-box;padding-bottom: 0.4em;background-color: white;}#sk-container-id-8 div.sk-label label {font-family: monospace;font-weight: bold;display: inline-block;line-height: 1.2em;}#sk-container-id-8 div.sk-label-container {text-align: center;}#sk-container-id-8 div.sk-container {/* jupyter's `normalize.less` sets `[hidden] { display: none; }` but bootstrap.min.css set `[hidden] { display: none !important; }` so we also need the `!important` here to be able to override the default hidden behavior on the sphinx rendered scikit-learn.org. See: https://github.com/scikit-learn/scikit-learn/issues/21755 */display: inline-block !important;position: relative;}#sk-container-id-8 div.sk-text-repr-fallback {display: none;}</style><div id=\"sk-container-id-8\" class=\"sk-top-container\"><div class=\"sk-text-repr-fallback\"><pre>RandomizedSearchCV(cv=KFold(n_splits=4, random_state=None, shuffle=False),\n",
       "                   estimator=RandomForestRegressor(), n_iter=50,\n",
       "                   param_distributions={&#x27;max_depth&#x27;: [2, 3, 4],\n",
       "                                        &#x27;max_features&#x27;: [&#x27;auto&#x27;, &#x27;sqrt&#x27;,\n",
       "                                                         &#x27;log2&#x27;],\n",
       "                                        &#x27;n_estimators&#x27;: [100, 200, 300, 400],\n",
       "                                        &#x27;random_state&#x27;: [20, 30, 40, 50]})</pre><b>In a Jupyter environment, please rerun this cell to show the HTML representation or trust the notebook. <br />On GitHub, the HTML representation is unable to render, please try loading this page with nbviewer.org.</b></div><div class=\"sk-container\" hidden><div class=\"sk-item sk-dashed-wrapped\"><div class=\"sk-label-container\"><div class=\"sk-label sk-toggleable\"><input class=\"sk-toggleable__control sk-hidden--visually\" id=\"sk-estimator-id-14\" type=\"checkbox\" ><label for=\"sk-estimator-id-14\" class=\"sk-toggleable__label sk-toggleable__label-arrow\">RandomizedSearchCV</label><div class=\"sk-toggleable__content\"><pre>RandomizedSearchCV(cv=KFold(n_splits=4, random_state=None, shuffle=False),\n",
       "                   estimator=RandomForestRegressor(), n_iter=50,\n",
       "                   param_distributions={&#x27;max_depth&#x27;: [2, 3, 4],\n",
       "                                        &#x27;max_features&#x27;: [&#x27;auto&#x27;, &#x27;sqrt&#x27;,\n",
       "                                                         &#x27;log2&#x27;],\n",
       "                                        &#x27;n_estimators&#x27;: [100, 200, 300, 400],\n",
       "                                        &#x27;random_state&#x27;: [20, 30, 40, 50]})</pre></div></div></div><div class=\"sk-parallel\"><div class=\"sk-parallel-item\"><div class=\"sk-item\"><div class=\"sk-label-container\"><div class=\"sk-label sk-toggleable\"><input class=\"sk-toggleable__control sk-hidden--visually\" id=\"sk-estimator-id-15\" type=\"checkbox\" ><label for=\"sk-estimator-id-15\" class=\"sk-toggleable__label sk-toggleable__label-arrow\">estimator: RandomForestRegressor</label><div class=\"sk-toggleable__content\"><pre>RandomForestRegressor()</pre></div></div></div><div class=\"sk-serial\"><div class=\"sk-item\"><div class=\"sk-estimator sk-toggleable\"><input class=\"sk-toggleable__control sk-hidden--visually\" id=\"sk-estimator-id-16\" type=\"checkbox\" ><label for=\"sk-estimator-id-16\" class=\"sk-toggleable__label sk-toggleable__label-arrow\">RandomForestRegressor</label><div class=\"sk-toggleable__content\"><pre>RandomForestRegressor()</pre></div></div></div></div></div></div></div></div></div></div>"
      ],
      "text/plain": [
       "RandomizedSearchCV(cv=KFold(n_splits=4, random_state=None, shuffle=False),\n",
       "                   estimator=RandomForestRegressor(), n_iter=50,\n",
       "                   param_distributions={'max_depth': [2, 3, 4],\n",
       "                                        'max_features': ['auto', 'sqrt',\n",
       "                                                         'log2'],\n",
       "                                        'n_estimators': [100, 200, 300, 400],\n",
       "                                        'random_state': [20, 30, 40, 50]})"
      ]
     },
     "execution_count": 189,
     "metadata": {},
     "output_type": "execute_result"
    }
   ],
   "source": [
    "grid.fit(x,y)"
   ]
  },
  {
   "cell_type": "code",
   "execution_count": 190,
   "id": "9b3ca5ba-f8aa-47fb-b700-4cc33f3e0dad",
   "metadata": {},
   "outputs": [
    {
     "data": {
      "text/plain": [
       "0.7379091840061456"
      ]
     },
     "execution_count": 190,
     "metadata": {},
     "output_type": "execute_result"
    }
   ],
   "source": [
    "grid.best_score_"
   ]
  },
  {
   "cell_type": "code",
   "execution_count": 191,
   "id": "434dc995-96f3-49d1-884b-1c036a1cd14a",
   "metadata": {},
   "outputs": [
    {
     "data": {
      "text/plain": [
       "{'random_state': 30,\n",
       " 'n_estimators': 400,\n",
       " 'max_features': 'sqrt',\n",
       " 'max_depth': 4}"
      ]
     },
     "execution_count": 191,
     "metadata": {},
     "output_type": "execute_result"
    }
   ],
   "source": [
    "grid.best_params_"
   ]
  },
  {
   "cell_type": "code",
   "execution_count": null,
   "id": "87470f30-6108-453f-bb62-73a5c98f99d1",
   "metadata": {},
   "outputs": [],
   "source": []
  },
  {
   "cell_type": "code",
   "execution_count": null,
   "id": "e09fc2a2-52a2-4d5f-b474-04d6eb5f0aee",
   "metadata": {},
   "outputs": [],
   "source": []
  }
 ],
 "metadata": {
  "kernelspec": {
   "display_name": "Python 3 (ipykernel)",
   "language": "python",
   "name": "python3"
  },
  "language_info": {
   "codemirror_mode": {
    "name": "ipython",
    "version": 3
   },
   "file_extension": ".py",
   "mimetype": "text/x-python",
   "name": "python",
   "nbconvert_exporter": "python",
   "pygments_lexer": "ipython3",
   "version": "3.11.7"
  }
 },
 "nbformat": 4,
 "nbformat_minor": 5
}
